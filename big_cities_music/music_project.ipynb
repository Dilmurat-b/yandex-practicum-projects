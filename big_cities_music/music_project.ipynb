{
 "cells": [
  {
   "cell_type": "markdown",
   "id": "6c01ad80-4255-413f-8f8d-7318cf7f2b1b",
   "metadata": {},
   "source": [
    "# Yandex Music"
   ]
  },
  {
   "cell_type": "markdown",
   "id": "0c7707e5-468d-4d6f-9947-ad2a4991de90",
   "metadata": {},
   "source": [
    "## Data overview."
   ]
  },
  {
   "cell_type": "markdown",
   "id": "9824d460-85b8-491d-849c-6e2937d1b3c6",
   "metadata": {},
   "source": [
    "Import libraries for analysis"
   ]
  },
  {
   "cell_type": "code",
   "execution_count": 1,
   "id": "149eef9f-95b6-43ee-9f78-a19dafc0243e",
   "metadata": {},
   "outputs": [],
   "source": [
    "import pandas as pd\n",
    "import numpy as np"
   ]
  },
  {
   "cell_type": "markdown",
   "id": "408bda07-bc33-408e-8155-22add3003d69",
   "metadata": {},
   "source": [
    "We load the data by storing it in `music_df`. With one command we will get general information about the table and display first 10 rows:"
   ]
  },
  {
   "cell_type": "code",
   "execution_count": 2,
   "id": "3e77a336-b26f-4438-b495-d9fb08fcc55b",
   "metadata": {},
   "outputs": [
    {
     "name": "stdout",
     "output_type": "stream",
     "text": [
      "<class 'pandas.core.frame.DataFrame'>\n",
      "RangeIndex: 65079 entries, 0 to 65078\n",
      "Data columns (total 7 columns):\n",
      " #   Column    Non-Null Count  Dtype \n",
      "---  ------    --------------  ----- \n",
      " 0     userID  65079 non-null  object\n",
      " 1   Track     63848 non-null  object\n",
      " 2   artist    57876 non-null  object\n",
      " 3   genre     63881 non-null  object\n",
      " 4     City    65079 non-null  object\n",
      " 5   time      65079 non-null  object\n",
      " 6   Day       65079 non-null  object\n",
      "dtypes: object(7)\n",
      "memory usage: 3.5+ MB\n"
     ]
    },
    {
     "data": {
      "text/html": [
       "<div>\n",
       "<style scoped>\n",
       "    .dataframe tbody tr th:only-of-type {\n",
       "        vertical-align: middle;\n",
       "    }\n",
       "\n",
       "    .dataframe tbody tr th {\n",
       "        vertical-align: top;\n",
       "    }\n",
       "\n",
       "    .dataframe thead th {\n",
       "        text-align: right;\n",
       "    }\n",
       "</style>\n",
       "<table border=\"1\" class=\"dataframe\">\n",
       "  <thead>\n",
       "    <tr style=\"text-align: right;\">\n",
       "      <th></th>\n",
       "      <th>userID</th>\n",
       "      <th>Track</th>\n",
       "      <th>artist</th>\n",
       "      <th>genre</th>\n",
       "      <th>City</th>\n",
       "      <th>time</th>\n",
       "      <th>Day</th>\n",
       "    </tr>\n",
       "  </thead>\n",
       "  <tbody>\n",
       "    <tr>\n",
       "      <th>0</th>\n",
       "      <td>FFB692EC</td>\n",
       "      <td>Kamigata To Boots</td>\n",
       "      <td>The Mass Missile</td>\n",
       "      <td>rock</td>\n",
       "      <td>Saint-Petersburg</td>\n",
       "      <td>20:28:33</td>\n",
       "      <td>Wednesday</td>\n",
       "    </tr>\n",
       "    <tr>\n",
       "      <th>1</th>\n",
       "      <td>55204538</td>\n",
       "      <td>Delayed Because of Accident</td>\n",
       "      <td>Andreas Rönnberg</td>\n",
       "      <td>rock</td>\n",
       "      <td>Moscow</td>\n",
       "      <td>14:07:09</td>\n",
       "      <td>Friday</td>\n",
       "    </tr>\n",
       "    <tr>\n",
       "      <th>2</th>\n",
       "      <td>20EC38</td>\n",
       "      <td>Funiculì funiculà</td>\n",
       "      <td>Mario Lanza</td>\n",
       "      <td>pop</td>\n",
       "      <td>Saint-Petersburg</td>\n",
       "      <td>20:58:07</td>\n",
       "      <td>Wednesday</td>\n",
       "    </tr>\n",
       "    <tr>\n",
       "      <th>3</th>\n",
       "      <td>A3DD03C9</td>\n",
       "      <td>Dragons in the Sunset</td>\n",
       "      <td>Fire + Ice</td>\n",
       "      <td>folk</td>\n",
       "      <td>Saint-Petersburg</td>\n",
       "      <td>08:37:09</td>\n",
       "      <td>Monday</td>\n",
       "    </tr>\n",
       "    <tr>\n",
       "      <th>4</th>\n",
       "      <td>E2DC1FAE</td>\n",
       "      <td>Soul People</td>\n",
       "      <td>Space Echo</td>\n",
       "      <td>dance</td>\n",
       "      <td>Moscow</td>\n",
       "      <td>08:34:34</td>\n",
       "      <td>Monday</td>\n",
       "    </tr>\n",
       "    <tr>\n",
       "      <th>5</th>\n",
       "      <td>842029A1</td>\n",
       "      <td>Преданная</td>\n",
       "      <td>IMPERVTOR</td>\n",
       "      <td>rusrap</td>\n",
       "      <td>Saint-Petersburg</td>\n",
       "      <td>13:09:41</td>\n",
       "      <td>Friday</td>\n",
       "    </tr>\n",
       "    <tr>\n",
       "      <th>6</th>\n",
       "      <td>4CB90AA5</td>\n",
       "      <td>True</td>\n",
       "      <td>Roman Messer</td>\n",
       "      <td>dance</td>\n",
       "      <td>Moscow</td>\n",
       "      <td>13:00:07</td>\n",
       "      <td>Wednesday</td>\n",
       "    </tr>\n",
       "    <tr>\n",
       "      <th>7</th>\n",
       "      <td>F03E1C1F</td>\n",
       "      <td>Feeling This Way</td>\n",
       "      <td>Polina Griffith</td>\n",
       "      <td>dance</td>\n",
       "      <td>Moscow</td>\n",
       "      <td>20:47:49</td>\n",
       "      <td>Wednesday</td>\n",
       "    </tr>\n",
       "    <tr>\n",
       "      <th>8</th>\n",
       "      <td>8FA1D3BE</td>\n",
       "      <td>И вновь продолжается бой</td>\n",
       "      <td>NaN</td>\n",
       "      <td>ruspop</td>\n",
       "      <td>Moscow</td>\n",
       "      <td>09:17:40</td>\n",
       "      <td>Friday</td>\n",
       "    </tr>\n",
       "    <tr>\n",
       "      <th>9</th>\n",
       "      <td>E772D5C0</td>\n",
       "      <td>Pessimist</td>\n",
       "      <td>NaN</td>\n",
       "      <td>dance</td>\n",
       "      <td>Saint-Petersburg</td>\n",
       "      <td>21:20:49</td>\n",
       "      <td>Wednesday</td>\n",
       "    </tr>\n",
       "  </tbody>\n",
       "</table>\n",
       "</div>"
      ],
      "text/plain": [
       "     userID                        Track            artist   genre  \\\n",
       "0  FFB692EC            Kamigata To Boots  The Mass Missile    rock   \n",
       "1  55204538  Delayed Because of Accident  Andreas Rönnberg    rock   \n",
       "2    20EC38            Funiculì funiculà       Mario Lanza     pop   \n",
       "3  A3DD03C9        Dragons in the Sunset        Fire + Ice    folk   \n",
       "4  E2DC1FAE                  Soul People        Space Echo   dance   \n",
       "5  842029A1                    Преданная         IMPERVTOR  rusrap   \n",
       "6  4CB90AA5                         True      Roman Messer   dance   \n",
       "7  F03E1C1F             Feeling This Way   Polina Griffith   dance   \n",
       "8  8FA1D3BE     И вновь продолжается бой               NaN  ruspop   \n",
       "9  E772D5C0                    Pessimist               NaN   dance   \n",
       "\n",
       "             City        time        Day  \n",
       "0  Saint-Petersburg  20:28:33  Wednesday  \n",
       "1            Moscow  14:07:09     Friday  \n",
       "2  Saint-Petersburg  20:58:07  Wednesday  \n",
       "3  Saint-Petersburg  08:37:09     Monday  \n",
       "4            Moscow  08:34:34     Monday  \n",
       "5  Saint-Petersburg  13:09:41     Friday  \n",
       "6            Moscow  13:00:07  Wednesday  \n",
       "7            Moscow  20:47:49  Wednesday  \n",
       "8            Moscow  09:17:40     Friday  \n",
       "9  Saint-Petersburg  21:20:49  Wednesday  "
      ]
     },
     "execution_count": 2,
     "metadata": {},
     "output_type": "execute_result"
    }
   ],
   "source": [
    "music_df = pd.read_csv('datasets/yandex_music_project.csv')\n",
    "music_df.info()\n",
    "music_df.head(10)"
   ]
  },
  {
   "cell_type": "markdown",
   "id": "d41ea71e-671d-4dda-9118-356e1918416a",
   "metadata": {},
   "source": [
    "So, the table has seven columns. The data type in all columns is `object`.\n",
    "\n",
    "According to the data documentation:  \n",
    "\n",
    "* `userID` — User identification number;\n",
    "* `Track` —\tName of a music track;\n",
    "* `artist` — Name of an artist;\n",
    "* `genre` — Name of a music genre;\n",
    "* `City` — City where a song was played;\n",
    "* `time` — Time at which a user started listening to a song;\n",
    "* `Day` — Day of the week;\n",
    "\n",
    "Number of values ​​in the columns varies. This means that there are missing values ​​in the data.  \n",
    "\n",
    "Each row of the DataFrame contains information about the track listened to. Some of the columns describe the composition itself: title, artist and genre. The rest of the data tells about the user: what city he is from, when he listened to music.\n",
    "\n",
    "To test working hypotheses, we can first say that there is enough data. But there are gaps in the data, and in the column names there are discrepancies with good style.\n",
    "\n",
    "To move forward, our need to preprocessing data."
   ]
  },
  {
   "cell_type": "markdown",
   "id": "56f3d43a-95b0-498d-9f54-587d760a7dc1",
   "metadata": {},
   "source": [
    "## Data preprocessing."
   ]
  },
  {
   "cell_type": "markdown",
   "id": "343310cf-dfa8-4666-828d-ea8ee73ba17b",
   "metadata": {},
   "source": [
    "Let's correct the style in the column names and eliminate missing values. Let's check for duplicate data."
   ]
  },
  {
   "cell_type": "markdown",
   "id": "b52ef38b-dc56-4170-b6db-09dbb114d964",
   "metadata": {},
   "source": [
    "### Headers style."
   ]
  },
  {
   "cell_type": "code",
   "execution_count": 3,
   "id": "fd50a3e9-c3a0-4abc-afdd-446aee290e76",
   "metadata": {},
   "outputs": [
    {
     "name": "stdout",
     "output_type": "stream",
     "text": [
      "Old names ['  userID', 'Track', 'artist', 'genre', '  City  ', 'time', 'Day']\n",
      "New names ['user_id', 'track', 'artist', 'genre', 'city', 'time', 'day']\n"
     ]
    }
   ],
   "source": [
    "print('Old names', music_df.columns.to_list())\n",
    "music_df = music_df.rename(columns = {'  userID':'user_id', 'Track':'track', '  City  ':'city', 'Day':'day'})\n",
    "print('New names', music_df.columns.to_list())"
   ]
  },
  {
   "cell_type": "markdown",
   "id": "55bdd725-44e0-4de0-a722-30bd1bf05d27",
   "metadata": {},
   "source": [
    "### Missing values."
   ]
  },
  {
   "cell_type": "markdown",
   "id": "459e3cc5-a15b-4e0d-b5dd-f51380a9195c",
   "metadata": {},
   "source": [
    "First, let's count the number of missing values"
   ]
  },
  {
   "cell_type": "code",
   "execution_count": 4,
   "id": "452f891f-f9ba-43f0-a200-c70004de1c1f",
   "metadata": {},
   "outputs": [
    {
     "data": {
      "text/plain": [
       "user_id       0\n",
       "track      1231\n",
       "artist     7203\n",
       "genre      1198\n",
       "city          0\n",
       "time          0\n",
       "day           0\n",
       "dtype: int64"
      ]
     },
     "execution_count": 4,
     "metadata": {},
     "output_type": "execute_result"
    }
   ],
   "source": [
    "music_df.isna().sum()"
   ]
  },
  {
   "cell_type": "markdown",
   "id": "fcfa1899-fdbd-449f-bbd2-a45dc45a260b",
   "metadata": {},
   "source": [
    "Not all missing values ​​affect the study. So in `track` and `artist`, missing values ​​are not important for your work. It is enough to replace them with explicit notations.  \n",
    "\n",
    "But missing valu in `genre` may interfere with the comparison of musical tastes in Moscow and St. Petersburg. In practice, it would be correct to determine the cause of the missing values ​​and restore the data, but this is not possible.  \n",
    "Have to:\n",
    "\n",
    "\n",
    "- also replace with explicit notations;\n",
    "\n",
    "- assess how much they will harm the calculations."
   ]
  },
  {
   "cell_type": "code",
   "execution_count": 5,
   "id": "28c8b361-5d2e-4c58-8c09-d0d79973c97f",
   "metadata": {},
   "outputs": [
    {
     "data": {
      "text/plain": [
       "user_id    0\n",
       "track      0\n",
       "artist     0\n",
       "genre      0\n",
       "city       0\n",
       "time       0\n",
       "day        0\n",
       "dtype: int64"
      ]
     },
     "execution_count": 5,
     "metadata": {},
     "output_type": "execute_result"
    }
   ],
   "source": [
    "# Replace missing values ​​in the 'track', 'artist' and 'genre' columns with the string 'unknown' by looping through the column names in a 'for' loop\n",
    "columns_to_replace = ['track', 'artist', 'genre']\n",
    "\n",
    "for column in columns_to_replace:\n",
    "    music_df[column] = music_df[column].fillna('unknown')\n",
    "\n",
    "music_df.isna().sum()"
   ]
  },
  {
   "cell_type": "markdown",
   "id": "636f47ed-f33d-47cd-83e5-f227b375cda8",
   "metadata": {},
   "source": [
    "### Duplicates."
   ]
  },
  {
   "cell_type": "code",
   "execution_count": 6,
   "id": "f2a0d523-d962-4a41-9266-38dc0c0c2eb6",
   "metadata": {},
   "outputs": [
    {
     "name": "stdout",
     "output_type": "stream",
     "text": [
      "Before:  3826\n",
      "After:  0\n"
     ]
    }
   ],
   "source": [
    "# Let's count and remove explicit duplicates\n",
    "print('Before: ', music_df.duplicated().sum())\n",
    "music_df = music_df.drop_duplicates()\n",
    "print('After: ', music_df.duplicated().sum())"
   ]
  },
  {
   "cell_type": "markdown",
   "id": "6e8ec166-21d0-4074-a5a9-68d76b1f45a9",
   "metadata": {},
   "source": [
    "Now, we need to get rid of implicit duplicates. Let's start by displaying the unique genre names in the alphabetical order."
   ]
  },
  {
   "cell_type": "code",
   "execution_count": 7,
   "id": "60cf8ade-1a47-4cdd-a699-bd63ad179647",
   "metadata": {
    "scrolled": true
   },
   "outputs": [
    {
     "data": {
      "text/plain": [
       "array(['acid', 'acoustic', 'action', 'adult', 'africa', 'afrikaans',\n",
       "       'alternative', 'alternativepunk', 'ambient', 'americana',\n",
       "       'animated', 'anime', 'arabesk', 'arabic', 'arena',\n",
       "       'argentinetango', 'art', 'audiobook', 'author', 'avantgarde',\n",
       "       'axé', 'baile', 'balkan', 'beats', 'bigroom', 'black', 'bluegrass',\n",
       "       'blues', 'bollywood', 'bossa', 'brazilian', 'breakbeat', 'breaks',\n",
       "       'broadway', 'cantautori', 'cantopop', 'canzone', 'caribbean',\n",
       "       'caucasian', 'celtic', 'chamber', 'chanson', 'children', 'chill',\n",
       "       'chinese', 'choral', 'christian', 'christmas', 'classical',\n",
       "       'classicmetal', 'club', 'colombian', 'comedy', 'conjazz',\n",
       "       'contemporary', 'country', 'cuban', 'dance', 'dancehall',\n",
       "       'dancepop', 'dark', 'death', 'deep', 'deutschrock', 'deutschspr',\n",
       "       'dirty', 'disco', 'dnb', 'documentary', 'downbeat', 'downtempo',\n",
       "       'drum', 'dub', 'dubstep', 'eastern', 'easy', 'electronic',\n",
       "       'electropop', 'emo', 'entehno', 'epicmetal', 'estrada', 'ethnic',\n",
       "       'eurofolk', 'european', 'experimental', 'extrememetal', 'fado',\n",
       "       'fairytail', 'film', 'fitness', 'flamenco', 'folk', 'folklore',\n",
       "       'folkmetal', 'folkrock', 'folktronica', 'forró', 'frankreich',\n",
       "       'französisch', 'french', 'funk', 'future', 'gangsta', 'garage',\n",
       "       'german', 'ghazal', 'gitarre', 'glitch', 'gospel', 'gothic',\n",
       "       'grime', 'grunge', 'gypsy', 'handsup', \"hard'n'heavy\", 'hardcore',\n",
       "       'hardstyle', 'hardtechno', 'hip', 'hip-hop', 'hiphop',\n",
       "       'historisch', 'holiday', 'hop', 'horror', 'house', 'hymn', 'idm',\n",
       "       'independent', 'indian', 'indie', 'indipop', 'industrial',\n",
       "       'inspirational', 'instrumental', 'international', 'irish', 'jam',\n",
       "       'japanese', 'jazz', 'jewish', 'jpop', 'jungle', 'k-pop',\n",
       "       'karadeniz', 'karaoke', 'kayokyoku', 'korean', 'laiko', 'latin',\n",
       "       'latino', 'leftfield', 'local', 'lounge', 'loungeelectronic',\n",
       "       'lovers', 'malaysian', 'mandopop', 'marschmusik', 'meditative',\n",
       "       'mediterranean', 'melodic', 'metal', 'metalcore', 'mexican',\n",
       "       'middle', 'minimal', 'miscellaneous', 'modern', 'mood', 'mpb',\n",
       "       'muslim', 'native', 'neoklassik', 'neue', 'new', 'newage',\n",
       "       'newwave', 'nu', 'nujazz', 'numetal', 'oceania', 'old', 'opera',\n",
       "       'orchestral', 'other', 'piano', 'podcasts', 'pop', 'popdance',\n",
       "       'popelectronic', 'popeurodance', 'poprussian', 'post',\n",
       "       'posthardcore', 'postrock', 'power', 'progmetal', 'progressive',\n",
       "       'psychedelic', 'punjabi', 'punk', 'quebecois', 'ragga', 'ram',\n",
       "       'rancheras', 'rap', 'rave', 'reggae', 'reggaeton', 'regional',\n",
       "       'relax', 'religious', 'retro', 'rhythm', 'rnb', 'rnr', 'rock',\n",
       "       'rockabilly', 'rockalternative', 'rockindie', 'rockother',\n",
       "       'romance', 'roots', 'ruspop', 'rusrap', 'rusrock', 'russian',\n",
       "       'salsa', 'samba', 'scenic', 'schlager', 'self', 'sertanejo',\n",
       "       'shanson', 'shoegazing', 'showtunes', 'singer', 'ska', 'skarock',\n",
       "       'slow', 'smooth', 'soft', 'soul', 'soulful', 'sound', 'soundtrack',\n",
       "       'southern', 'specialty', 'speech', 'spiritual', 'sport',\n",
       "       'stonerrock', 'surf', 'swing', 'synthpop', 'synthrock',\n",
       "       'sängerportrait', 'tango', 'tanzorchester', 'taraftar', 'tatar',\n",
       "       'tech', 'techno', 'teen', 'thrash', 'top', 'traditional',\n",
       "       'tradjazz', 'trance', 'tribal', 'trip', 'triphop', 'tropical',\n",
       "       'türk', 'türkçe', 'ukrrock', 'unknown', 'urban', 'uzbek',\n",
       "       'variété', 'vi', 'videogame', 'vocal', 'western', 'world',\n",
       "       'worldbeat', 'ïîï', 'электроника'], dtype=object)"
      ]
     },
     "execution_count": 7,
     "metadata": {},
     "output_type": "execute_result"
    }
   ],
   "source": [
    "music_df['genre'].sort_values().unique()"
   ]
  },
  {
   "cell_type": "markdown",
   "id": "9397fd3e-4b79-45fe-9cd7-e13b1f45df39",
   "metadata": {},
   "source": [
    "Looking through the list we will see the following implicit duplicates:\n",
    "- hip;\n",
    "- hop;\n",
    "- hip-hop.\n",
    "\n",
    "We need to get rid of such duplicates by replacing the duplicated names with one common name hiphop"
   ]
  },
  {
   "cell_type": "code",
   "execution_count": 8,
   "id": "d567d861-e9cf-4f20-8ddc-1cdcc850d891",
   "metadata": {
    "scrolled": true
   },
   "outputs": [
    {
     "data": {
      "text/plain": [
       "array(['acid', 'acoustic', 'action', 'adult', 'africa', 'afrikaans',\n",
       "       'alternative', 'alternativepunk', 'ambient', 'americana',\n",
       "       'animated', 'anime', 'arabesk', 'arabic', 'arena',\n",
       "       'argentinetango', 'art', 'audiobook', 'author', 'avantgarde',\n",
       "       'axé', 'baile', 'balkan', 'beats', 'bigroom', 'black', 'bluegrass',\n",
       "       'blues', 'bollywood', 'bossa', 'brazilian', 'breakbeat', 'breaks',\n",
       "       'broadway', 'cantautori', 'cantopop', 'canzone', 'caribbean',\n",
       "       'caucasian', 'celtic', 'chamber', 'chanson', 'children', 'chill',\n",
       "       'chinese', 'choral', 'christian', 'christmas', 'classical',\n",
       "       'classicmetal', 'club', 'colombian', 'comedy', 'conjazz',\n",
       "       'contemporary', 'country', 'cuban', 'dance', 'dancehall',\n",
       "       'dancepop', 'dark', 'death', 'deep', 'deutschrock', 'deutschspr',\n",
       "       'dirty', 'disco', 'dnb', 'documentary', 'downbeat', 'downtempo',\n",
       "       'drum', 'dub', 'dubstep', 'eastern', 'easy', 'electronic',\n",
       "       'electropop', 'emo', 'entehno', 'epicmetal', 'estrada', 'ethnic',\n",
       "       'eurofolk', 'european', 'experimental', 'extrememetal', 'fado',\n",
       "       'fairytail', 'film', 'fitness', 'flamenco', 'folk', 'folklore',\n",
       "       'folkmetal', 'folkrock', 'folktronica', 'forró', 'frankreich',\n",
       "       'französisch', 'french', 'funk', 'future', 'gangsta', 'garage',\n",
       "       'german', 'ghazal', 'gitarre', 'glitch', 'gospel', 'gothic',\n",
       "       'grime', 'grunge', 'gypsy', 'handsup', \"hard'n'heavy\", 'hardcore',\n",
       "       'hardstyle', 'hardtechno', 'hiphop', 'historisch', 'holiday',\n",
       "       'horror', 'house', 'hymn', 'idm', 'independent', 'indian', 'indie',\n",
       "       'indipop', 'industrial', 'inspirational', 'instrumental',\n",
       "       'international', 'irish', 'jam', 'japanese', 'jazz', 'jewish',\n",
       "       'jpop', 'jungle', 'k-pop', 'karadeniz', 'karaoke', 'kayokyoku',\n",
       "       'korean', 'laiko', 'latin', 'latino', 'leftfield', 'local',\n",
       "       'lounge', 'loungeelectronic', 'lovers', 'malaysian', 'mandopop',\n",
       "       'marschmusik', 'meditative', 'mediterranean', 'melodic', 'metal',\n",
       "       'metalcore', 'mexican', 'middle', 'minimal', 'miscellaneous',\n",
       "       'modern', 'mood', 'mpb', 'muslim', 'native', 'neoklassik', 'neue',\n",
       "       'new', 'newage', 'newwave', 'nu', 'nujazz', 'numetal', 'oceania',\n",
       "       'old', 'opera', 'orchestral', 'other', 'piano', 'podcasts', 'pop',\n",
       "       'popdance', 'popelectronic', 'popeurodance', 'poprussian', 'post',\n",
       "       'posthardcore', 'postrock', 'power', 'progmetal', 'progressive',\n",
       "       'psychedelic', 'punjabi', 'punk', 'quebecois', 'ragga', 'ram',\n",
       "       'rancheras', 'rap', 'rave', 'reggae', 'reggaeton', 'regional',\n",
       "       'relax', 'religious', 'retro', 'rhythm', 'rnb', 'rnr', 'rock',\n",
       "       'rockabilly', 'rockalternative', 'rockindie', 'rockother',\n",
       "       'romance', 'roots', 'ruspop', 'rusrap', 'rusrock', 'russian',\n",
       "       'salsa', 'samba', 'scenic', 'schlager', 'self', 'sertanejo',\n",
       "       'shanson', 'shoegazing', 'showtunes', 'singer', 'ska', 'skarock',\n",
       "       'slow', 'smooth', 'soft', 'soul', 'soulful', 'sound', 'soundtrack',\n",
       "       'southern', 'specialty', 'speech', 'spiritual', 'sport',\n",
       "       'stonerrock', 'surf', 'swing', 'synthpop', 'synthrock',\n",
       "       'sängerportrait', 'tango', 'tanzorchester', 'taraftar', 'tatar',\n",
       "       'tech', 'techno', 'teen', 'thrash', 'top', 'traditional',\n",
       "       'tradjazz', 'trance', 'tribal', 'trip', 'triphop', 'tropical',\n",
       "       'türk', 'türkçe', 'ukrrock', 'unknown', 'urban', 'uzbek',\n",
       "       'variété', 'vi', 'videogame', 'vocal', 'western', 'world',\n",
       "       'worldbeat', 'ïîï', 'электроника'], dtype=object)"
      ]
     },
     "execution_count": 8,
     "metadata": {},
     "output_type": "execute_result"
    }
   ],
   "source": [
    "music_df['genre'] = music_df['genre'].replace(['hip', 'hop', 'hip-hop'], 'hiphop')\n",
    "music_df['genre'].sort_values().unique()"
   ]
  },
  {
   "cell_type": "markdown",
   "id": "f1a6cf72-7b22-4ee3-b0dc-9e3e0d01e7a9",
   "metadata": {},
   "source": [
    "**Conclusions**\n",
    "\n",
    "Data preprocessing has identified 3 problems in data:\n",
    "\n",
    "- inadequate headers style;\n",
    "- missing values;\n",
    "- duplicates - explicit and implicit.\n",
    "\n",
    "The headings have been corrected to make working with the table easier. Without duplicates, the research will be more accurate. Missing values ​​were replaced with `unknown`. It remains to be seen whether the omissions in the `genre` column will harm the research. \n",
    "\n",
    "Now we can move on to testing hypotheses."
   ]
  },
  {
   "cell_type": "markdown",
   "id": "cb65627c-4ea4-4f75-900c-a26c27ff211c",
   "metadata": {},
   "source": [
    "## Hypotheses testing."
   ]
  },
  {
   "cell_type": "markdown",
   "id": "a9873d27-9ff4-48fd-92a6-2e9a318218c7",
   "metadata": {},
   "source": [
    "### Differences in music preferences between two cities."
   ]
  },
  {
   "cell_type": "markdown",
   "id": "50490645-5fe4-4f2d-9b9d-fd441c83040a",
   "metadata": {},
   "source": [
    "The first hypothesis states that users listen to music differently in Moscow and Saint-Petersburg. We can test this hypothesis by making use of data on three weekdays — Monday, Wednesday, and Friday. For this:\n",
    "\n",
    "- separate the users of Moscow and St. Petersburg;\n",
    "- compare how many tracks each user group listened to on Monday, Wednesday and Friday.\n",
    "\n",
    "First estimate the activity of users in each city. Group the data by city and count the auditions in each group."
   ]
  },
  {
   "cell_type": "code",
   "execution_count": 9,
   "id": "df63c8de-ddc2-4232-bf9c-ab5cdba1c45c",
   "metadata": {},
   "outputs": [
    {
     "data": {
      "text/plain": [
       "city\n",
       "Moscow              42741\n",
       "Saint-Petersburg    18512\n",
       "Name: time, dtype: int64"
      ]
     },
     "execution_count": 9,
     "metadata": {},
     "output_type": "execute_result"
    }
   ],
   "source": [
    "music_df.groupby('city')['time'].count()"
   ]
  },
  {
   "cell_type": "markdown",
   "id": "0253a466-0447-4184-8cee-5ce8d03dbba3",
   "metadata": {},
   "source": [
    "There are more auditions in Moscow than in St. Petersburg. This does not mean that Moscow users listen to music more often. There are just more users in Moscow.\n",
    "\n",
    "Now, let's group data by weekday and compute numbers of track plays on Monday, Wednesday and Friday. The data contains information about track plays on these days only."
   ]
  },
  {
   "cell_type": "code",
   "execution_count": 10,
   "id": "96d62436-f957-4cef-8eaf-d1aa4a7c662d",
   "metadata": {},
   "outputs": [
    {
     "data": {
      "text/plain": [
       "day\n",
       "Friday       21840\n",
       "Monday       21354\n",
       "Wednesday    18059\n",
       "Name: time, dtype: int64"
      ]
     },
     "execution_count": 10,
     "metadata": {},
     "output_type": "execute_result"
    }
   ],
   "source": [
    "music_df.groupby('day')['time'].count()"
   ]
  },
  {
   "cell_type": "markdown",
   "id": "2a2003b1-fa0d-4559-9c80-65141fd2caf8",
   "metadata": {},
   "source": [
    "On average, users from two cities are less active on Wednesday, but the results can change once we examine each city separately.  \n",
    "\n",
    "In order to be able to distinguish between different cities and weekdays, we will use `number_tracks()` function that will combine the above calculations so that we could understand how often users from these two cities listen to music.  \n",
    "\n",
    "Two parameters are needed:  \n",
    "- day of the week;\n",
    "- city ​​name.\n",
    "\n",
    "In the function, save into a variable the rows of the source table that have the value:  \n",
    "- in the `day` column is equal to the `day` parameter;\n",
    "- in the `city` column is equal to the `city` parameter. \n",
    "\n",
    "To do this, apply sequential filtering with logical indexing. \n",
    "\n",
    "Then count the values ​​in the user_id column of the resulting table."
   ]
  },
  {
   "cell_type": "code",
   "execution_count": 11,
   "id": "19a23907-5c9a-44dd-a587-92b05ce1bd82",
   "metadata": {},
   "outputs": [],
   "source": [
    "def number_tracks(df, day, city):\n",
    "    '''\n",
    "    Computes day- and city-specific number of track plays.\n",
    "    Given the data with users' musical preferences, function\n",
    "    returns the number of tracks played in a particular city\n",
    "    on a particular day.\n",
    "    '''\n",
    "    # Sequentially filtering the data for a certain day/city\n",
    "    track_list = df[(df['day'] == day) & (df['city'] == city)]\n",
    "    # Computing the number of track plays on a certain day/ in a certain city\n",
    "    track_list_count = track_list['user_id'].count()\n",
    "    return track_list_count"
   ]
  },
  {
   "cell_type": "code",
   "execution_count": 12,
   "id": "ffcc3cf3-185e-4be0-8012-028e0448a9f1",
   "metadata": {},
   "outputs": [],
   "source": [
    "# Defining unique cities and weekdays\n",
    "city_list = music_df['city'].unique()\n",
    "day_list = music_df['day'].unique()"
   ]
  },
  {
   "cell_type": "code",
   "execution_count": 13,
   "id": "6bbdc606-04bf-4ca8-a760-53cf7e196fa9",
   "metadata": {},
   "outputs": [
    {
     "name": "stdout",
     "output_type": "stream",
     "text": [
      "Number of plays in each city by day of the week:\n",
      "\n",
      " Saint-Petersburg\n",
      "\t Wednesday: 7003\n",
      "\t    Friday: 5895\n",
      "\t    Monday: 5614\n",
      "\n",
      " Moscow\n",
      "\t Wednesday: 11056\n",
      "\t    Friday: 15945\n",
      "\t    Monday: 15740\n"
     ]
    }
   ],
   "source": [
    "# Filling in info about track plays for each city/weekday\n",
    "track_plays = np.empty([city_list.size, day_list.size])\n",
    "print(f'Number of plays in each city by day of the week:')\n",
    "for i, city in enumerate(city_list):\n",
    "    print(f'\\n {city}')\n",
    "    for j, day in enumerate(day_list):\n",
    "        track_plays[i][j] = number_tracks(music_df, day, city)\n",
    "        print(f'\\t {day.rjust(9)}: {number_tracks(music_df, day, city)}')"
   ]
  },
  {
   "cell_type": "markdown",
   "id": "0f9928d7-a1a3-43ad-b5a7-e9032003774f",
   "metadata": {},
   "source": [
    "Enter the received data into the table using the `pd.DataFrame` constructor"
   ]
  },
  {
   "cell_type": "code",
   "execution_count": 14,
   "id": "961333fc-aa4f-416c-aa2b-832073fa88d1",
   "metadata": {},
   "outputs": [
    {
     "data": {
      "text/html": [
       "<div>\n",
       "<style scoped>\n",
       "    .dataframe tbody tr th:only-of-type {\n",
       "        vertical-align: middle;\n",
       "    }\n",
       "\n",
       "    .dataframe tbody tr th {\n",
       "        vertical-align: top;\n",
       "    }\n",
       "\n",
       "    .dataframe thead th {\n",
       "        text-align: right;\n",
       "    }\n",
       "</style>\n",
       "<table border=\"1\" class=\"dataframe\">\n",
       "  <thead>\n",
       "    <tr style=\"text-align: right;\">\n",
       "      <th></th>\n",
       "      <th>Wednesday</th>\n",
       "      <th>Friday</th>\n",
       "      <th>Monday</th>\n",
       "    </tr>\n",
       "  </thead>\n",
       "  <tbody>\n",
       "    <tr>\n",
       "      <th>Saint-Petersburg</th>\n",
       "      <td>7003.0</td>\n",
       "      <td>5895.0</td>\n",
       "      <td>5614.0</td>\n",
       "    </tr>\n",
       "    <tr>\n",
       "      <th>Moscow</th>\n",
       "      <td>11056.0</td>\n",
       "      <td>15945.0</td>\n",
       "      <td>15740.0</td>\n",
       "    </tr>\n",
       "  </tbody>\n",
       "</table>\n",
       "</div>"
      ],
      "text/plain": [
       "                  Wednesday   Friday   Monday\n",
       "Saint-Petersburg     7003.0   5895.0   5614.0\n",
       "Moscow              11056.0  15945.0  15740.0"
      ]
     },
     "execution_count": 14,
     "metadata": {},
     "output_type": "execute_result"
    }
   ],
   "source": [
    "info = pd.DataFrame(data=track_plays, columns=day_list, index=city_list)\n",
    "info"
   ]
  },
  {
   "cell_type": "markdown",
   "id": "93929ad3-ac21-44ac-a5cd-da047431c8d4",
   "metadata": {},
   "source": [
    "**Conclusions**\n",
    "\n",
    "Data shows difference in user behavior: \n",
    "- number of track plays in Moscow peaks on Monday and Friday, while it declines on Wednesday;\n",
    "- in Saint-Petersburg, conversely, users listen to music more frequently on Wednesday.\n",
    "\n",
    "Thus, the data confirms the first hypothesis"
   ]
  },
  {
   "cell_type": "markdown",
   "id": "0c53cb92-c5af-4abe-b7bc-e65a65d0daa7",
   "metadata": {},
   "source": [
    "### Music at the beginning and end of the week."
   ]
  },
  {
   "cell_type": "markdown",
   "id": "6e357bdd-b671-46ea-9af1-50e34cf20ca3",
   "metadata": {},
   "source": [
    "According to the second hypothesis, on Monday morning in Moscow some genres prevail, and in St. Petersburg others. Likewise, on Friday evenings, different genres predominate, depending on the city.  \n",
    "\n",
    "Save the tables with data in two variables:  \n",
    "- in Moscow - in `moscow_general`;\n",
    "- in St. Petersburg - in `spb_general`.\n"
   ]
  },
  {
   "cell_type": "code",
   "execution_count": 15,
   "id": "7269ef33-75f0-4745-ba3e-5c9034b6f950",
   "metadata": {},
   "outputs": [],
   "source": [
    "# DataFrame for Moscow users\n",
    "moscow_general = music_df[music_df['city'] == 'Moscow']\n",
    "\n",
    "# DataFrame for Saint-Petersburg users\n",
    "spb_general = music_df[music_df['city'] == 'Saint-Petersburg']"
   ]
  },
  {
   "cell_type": "markdown",
   "id": "e4a55133-025a-4f68-a982-b828a2b5cb5d",
   "metadata": {},
   "source": [
    "Create a function `genre_weekday()` with four parameters:\n",
    "\n",
    "- table (dataframe) with data;\n",
    "- day of the week;\n",
    "- start timestamp in \"hh:mm\" format;\n",
    "- end timestamp in \"hh:mm\" format.\n",
    "\n",
    "The function should return information about the top-10 genres of those tracks that were listened to on a specified day, in the interval between two timestamps."
   ]
  },
  {
   "cell_type": "code",
   "execution_count": 16,
   "id": "317b7caf-e5dc-44d8-be1e-4573117a35bb",
   "metadata": {},
   "outputs": [],
   "source": [
    "def genre_weekday(df, day, start_time, end_time):\n",
    "    '''\n",
    "    Compiles genres rating for a specific day.\n",
    "    Function returns a rating of top-10 most popular\n",
    "    genres on a given day at a given time period.\n",
    "    '''\n",
    "    # Filtering the data by day and time\n",
    "    genre_df = df[(df['day'] == day) & (df['time'] < end_time) & (df['time'] > start_time)]\n",
    "    genre_df_grouped = genre_df.groupby('genre')['genre'].count()\n",
    "    # Compiling a rating of the most popular genres\n",
    "    genre_df_top_10 = genre_df_grouped.sort_values(ascending = False).head(10)\n",
    "    return genre_df_top_10"
   ]
  },
  {
   "cell_type": "markdown",
   "id": "fea848b4-9595-4fd3-9096-9ab5fe40bb3e",
   "metadata": {},
   "source": [
    "\n",
    "Compare the results of the` genre_weekday(`) function for Moscow and St. Petersburg on Monday morning (from 7:00 to 11:00) and on Friday evening (from 17:00 to 23:00):"
   ]
  },
  {
   "cell_type": "code",
   "execution_count": 17,
   "id": "c1fe8021-c82d-4793-a031-ef279553943b",
   "metadata": {},
   "outputs": [
    {
     "data": {
      "text/plain": [
       "genre\n",
       "pop            781\n",
       "dance          549\n",
       "electronic     480\n",
       "rock           474\n",
       "hiphop         286\n",
       "ruspop         186\n",
       "world          181\n",
       "rusrap         175\n",
       "alternative    164\n",
       "unknown        161\n",
       "Name: genre, dtype: int64"
      ]
     },
     "execution_count": 17,
     "metadata": {},
     "output_type": "execute_result"
    }
   ],
   "source": [
    "# Computing top-10 genres for Moscow (Monday morning)\n",
    "genre_weekday(moscow_general, 'Monday', '07:00', '11:00')"
   ]
  },
  {
   "cell_type": "code",
   "execution_count": 18,
   "id": "662e34c9-2b95-4440-96bd-4bd9e2074687",
   "metadata": {},
   "outputs": [
    {
     "data": {
      "text/plain": [
       "genre\n",
       "pop            218\n",
       "dance          182\n",
       "rock           162\n",
       "electronic     147\n",
       "hiphop          80\n",
       "ruspop          64\n",
       "alternative     58\n",
       "rusrap          55\n",
       "jazz            44\n",
       "classical       40\n",
       "Name: genre, dtype: int64"
      ]
     },
     "execution_count": 18,
     "metadata": {},
     "output_type": "execute_result"
    }
   ],
   "source": [
    "# Computing top-10 genres for Saint-Petersburg (Monday morning)\n",
    "genre_weekday(spb_general, 'Monday', '07:00', '11:00')"
   ]
  },
  {
   "cell_type": "code",
   "execution_count": 19,
   "id": "828a90a5-4fd7-4f87-adc2-ecdfc7783c2d",
   "metadata": {},
   "outputs": [
    {
     "data": {
      "text/plain": [
       "genre\n",
       "pop            713\n",
       "rock           517\n",
       "dance          495\n",
       "electronic     482\n",
       "hiphop         273\n",
       "world          208\n",
       "ruspop         170\n",
       "alternative    163\n",
       "classical      163\n",
       "rusrap         142\n",
       "Name: genre, dtype: int64"
      ]
     },
     "execution_count": 19,
     "metadata": {},
     "output_type": "execute_result"
    }
   ],
   "source": [
    "# Computing top-10 genres for Moscow (Friday evening)\n",
    "genre_weekday(moscow_general, 'Friday', '17:00', '23:00')"
   ]
  },
  {
   "cell_type": "code",
   "execution_count": 20,
   "id": "bede215b-ffd5-4c2d-bd17-79237b91c1eb",
   "metadata": {},
   "outputs": [
    {
     "data": {
      "text/plain": [
       "genre\n",
       "pop            256\n",
       "electronic     216\n",
       "rock           216\n",
       "dance          210\n",
       "hiphop          97\n",
       "alternative     63\n",
       "jazz            61\n",
       "classical       60\n",
       "rusrap          59\n",
       "world           54\n",
       "Name: genre, dtype: int64"
      ]
     },
     "execution_count": 20,
     "metadata": {},
     "output_type": "execute_result"
    }
   ],
   "source": [
    "# Computing top-10 genres for Saint-Petersburg (Friday evening)\n",
    "genre_weekday(spb_general, 'Friday', '17:00', '23:00')"
   ]
  },
  {
   "cell_type": "markdown",
   "id": "0250e9c1-e6bc-483d-8932-a131ffe02aa3",
   "metadata": {},
   "source": [
    "**Conclusions**\n",
    "\n",
    "If we compare the top-10 genres on Monday morning, we can draw the following conclusions:\n",
    "\n",
    "1. Users in Moscow and Saint-Petersburg listen to similar music. The only difference is that Moscow rating includes world genre, while that for Saint-Petersburg includes `jazz` and `classical` music genres.\n",
    "2. In Moscow there are so many missing values that `unknown` genre took the 10th place in the rating of the most popular genres. Hence, missing values account for a substantial fraction of data and are highly likely to affect the results.  \n",
    "\n",
    "Friday evening does not change the results: some genres ascend and descend across the top-10 rating but in general rating stays the same.\n",
    "\n",
    "Thus, the second hypothesis has been partially confirmed:\n",
    "\n",
    "- Users listen to similar music at the beginning and the end of the week.\n",
    "- We were not able to detect a distinct difference between Moscow and Saint-Petersburg. Users in Moscow often listen to the russian popular music (`ruspop`), while users in Saint-Peterburg - `jazz`.\n",
    "\n",
    "However, missing values do not allow accurately confirming the above results. Moscow data has so many of them that it is likely that the top-10 rating could have looked differently should we have had all information."
   ]
  },
  {
   "cell_type": "markdown",
   "id": "a095d911-a6f3-4dbe-a289-81ac25177726",
   "metadata": {},
   "source": [
    "### Preferences by genre in Moscow and St. Petersburg."
   ]
  },
  {
   "cell_type": "markdown",
   "id": "59da15a5-e4c7-46a3-bd57-34ab3f45c1b5",
   "metadata": {},
   "source": [
    "Hypothesis: St. Petersburg is the capital of rap (`rusrap`), music of this genre is listened to more often there than in Moscow. And Moscow is a city of contrasts, in which, nevertheless, pop music prevails `pop`.\n",
    "\n",
    "We can start by grouping the table by genre and counting the number of tracks played in Moscow."
   ]
  },
  {
   "cell_type": "code",
   "execution_count": 21,
   "id": "c2477318-0715-457e-a4e4-528d32934927",
   "metadata": {},
   "outputs": [
    {
     "data": {
      "text/plain": [
       "genre\n",
       "pop            5892\n",
       "dance          4435\n",
       "rock           3965\n",
       "electronic     3786\n",
       "hiphop         2096\n",
       "classical      1616\n",
       "world          1432\n",
       "alternative    1379\n",
       "ruspop         1372\n",
       "rusrap         1161\n",
       "Name: genre, dtype: int64"
      ]
     },
     "execution_count": 21,
     "metadata": {},
     "output_type": "execute_result"
    }
   ],
   "source": [
    "# Computing top-10 genres for Moscow\n",
    "moscow_genres = moscow_general.groupby('genre')['genre'].count().sort_values(ascending = False)\n",
    "moscow_genres.head(10)"
   ]
  },
  {
   "cell_type": "code",
   "execution_count": 22,
   "id": "0a1e357e-c4d9-4b6f-8878-b94d52abfcf5",
   "metadata": {},
   "outputs": [
    {
     "data": {
      "text/plain": [
       "genre\n",
       "pop            2431\n",
       "dance          1932\n",
       "rock           1879\n",
       "electronic     1736\n",
       "hiphop          960\n",
       "alternative     649\n",
       "classical       646\n",
       "rusrap          564\n",
       "ruspop          538\n",
       "world           515\n",
       "Name: genre, dtype: int64"
      ]
     },
     "execution_count": 22,
     "metadata": {},
     "output_type": "execute_result"
    }
   ],
   "source": [
    "# Computing top-10 genres for Saint-Petersburg\n",
    "spb_genres = spb_general.groupby('genre')['genre'].count().sort_values(ascending = False)\n",
    "spb_genres.head(10)"
   ]
  },
  {
   "cell_type": "markdown",
   "id": "795fe6a0-b45a-4fb2-afc3-1ed14dce75a8",
   "metadata": {},
   "source": [
    "**Conclusion**\n",
    "\n",
    "The hypothesis was partially confirmed:\n",
    "\n",
    "- `pop` music is the most popular genre in Moscow, as the hypothesis predicted. Moreover, in the top-10 genres there is a similar genre - Russian popular music.\n",
    "- contrary to expectations, rap (`rusrap`) is equally popular in Moscow and St. Petersburg."
   ]
  },
  {
   "cell_type": "markdown",
   "id": "a1fdaa15-654f-4fca-9367-afa6744c158a",
   "metadata": {},
   "source": [
    "## Research results."
   ]
  },
  {
   "cell_type": "markdown",
   "id": "e941a6d9-37f1-4a90-8c4d-9c9b4a6b024f",
   "metadata": {},
   "source": [
    "We tested three hypotheses and found:\n",
    "\n",
    "1. The day of the week affects user activity differently in Moscow and St. Petersburg.\n",
    "\n",
    "The first hypothesis was completely confirmed.\n",
    "\n",
    "2. Musical preferences do not change much during the week - be it Moscow or St. Petersburg. Small differences are noticeable at the beginning of the week, on Mondays:\n",
    "\n",
    "- in Moscow they listen to music of the `world` genre;\n",
    "- in St. Petersburg - `jazz` and `classics`.\n",
    "\n",
    "Thus, the second hypothesis was only partially confirmed. This result might have been different if not for missing values ​​in the data.\n",
    "\n",
    "3. The tastes of Moscow and St. Petersburg users have more in common than differences. Contrary to expectations, genre preferences in St. Petersburg resemble those in Moscow.\n",
    "\n",
    "The third hypothesis was not confirmed. If differences in preferences exist, they are not noticeable for the majority of users."
   ]
  }
 ],
 "metadata": {
  "kernelspec": {
   "display_name": "Python 3 (ipykernel)",
   "language": "python",
   "name": "python3"
  },
  "language_info": {
   "codemirror_mode": {
    "name": "ipython",
    "version": 3
   },
   "file_extension": ".py",
   "mimetype": "text/x-python",
   "name": "python",
   "nbconvert_exporter": "python",
   "pygments_lexer": "ipython3",
   "version": "3.11.5"
  }
 },
 "nbformat": 4,
 "nbformat_minor": 5
}
