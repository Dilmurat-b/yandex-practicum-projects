{
 "cells": [
  {
   "cell_type": "markdown",
   "id": "965e5781-db0a-4536-b373-c201f21c9749",
   "metadata": {},
   "source": [
    "# Research of Borrowers' Reliability"
   ]
  },
  {
   "cell_type": "markdown",
   "id": "fb7c244f-0078-45a9-90f9-fbe78b1d7263",
   "metadata": {},
   "source": [
    "## Data overview"
   ]
  },
  {
   "cell_type": "code",
   "execution_count": 1,
   "id": "c55084d0-83ef-475f-af03-f4dc20c72341",
   "metadata": {},
   "outputs": [],
   "source": [
    "import pandas as pd\n",
    "import numpy as np\n",
    "import matplotlib.pyplot as plt\n",
    "import seaborn as sns"
   ]
  },
  {
   "cell_type": "markdown",
   "id": "46c822ad-5ede-4bbe-acc3-e0aed2864eab",
   "metadata": {},
   "source": [
    "Load the data, look at general information about the table, display the first 20 rows, and look at the statistics on the numeric columns"
   ]
  },
  {
   "cell_type": "code",
   "execution_count": 2,
   "id": "2ab43c5b-94ba-42de-ab85-c4d57ecb055c",
   "metadata": {
    "scrolled": true
   },
   "outputs": [
    {
     "name": "stdout",
     "output_type": "stream",
     "text": [
      "<class 'pandas.core.frame.DataFrame'>\n",
      "RangeIndex: 21525 entries, 0 to 21524\n",
      "Data columns (total 12 columns):\n",
      " #   Column            Non-Null Count  Dtype  \n",
      "---  ------            --------------  -----  \n",
      " 0   children          21525 non-null  int64  \n",
      " 1   days_employed     19351 non-null  float64\n",
      " 2   dob_years         21525 non-null  int64  \n",
      " 3   education         21525 non-null  object \n",
      " 4   education_id      21525 non-null  int64  \n",
      " 5   family_status     21525 non-null  object \n",
      " 6   family_status_id  21525 non-null  int64  \n",
      " 7   gender            21525 non-null  object \n",
      " 8   income_type       21525 non-null  object \n",
      " 9   debt              21525 non-null  int64  \n",
      " 10  total_income      19351 non-null  float64\n",
      " 11  purpose           21525 non-null  object \n",
      "dtypes: float64(2), int64(5), object(5)\n",
      "memory usage: 2.0+ MB\n"
     ]
    },
    {
     "data": {
      "text/html": [
       "<div>\n",
       "<style scoped>\n",
       "    .dataframe tbody tr th:only-of-type {\n",
       "        vertical-align: middle;\n",
       "    }\n",
       "\n",
       "    .dataframe tbody tr th {\n",
       "        vertical-align: top;\n",
       "    }\n",
       "\n",
       "    .dataframe thead th {\n",
       "        text-align: right;\n",
       "    }\n",
       "</style>\n",
       "<table border=\"1\" class=\"dataframe\">\n",
       "  <thead>\n",
       "    <tr style=\"text-align: right;\">\n",
       "      <th></th>\n",
       "      <th>children</th>\n",
       "      <th>days_employed</th>\n",
       "      <th>dob_years</th>\n",
       "      <th>education</th>\n",
       "      <th>education_id</th>\n",
       "      <th>family_status</th>\n",
       "      <th>family_status_id</th>\n",
       "      <th>gender</th>\n",
       "      <th>income_type</th>\n",
       "      <th>debt</th>\n",
       "      <th>total_income</th>\n",
       "      <th>purpose</th>\n",
       "    </tr>\n",
       "  </thead>\n",
       "  <tbody>\n",
       "    <tr>\n",
       "      <th>0</th>\n",
       "      <td>1</td>\n",
       "      <td>-8437.673028</td>\n",
       "      <td>42</td>\n",
       "      <td>высшее</td>\n",
       "      <td>0</td>\n",
       "      <td>женат / замужем</td>\n",
       "      <td>0</td>\n",
       "      <td>F</td>\n",
       "      <td>сотрудник</td>\n",
       "      <td>0</td>\n",
       "      <td>253875.639453</td>\n",
       "      <td>покупка жилья</td>\n",
       "    </tr>\n",
       "    <tr>\n",
       "      <th>1</th>\n",
       "      <td>1</td>\n",
       "      <td>-4024.803754</td>\n",
       "      <td>36</td>\n",
       "      <td>среднее</td>\n",
       "      <td>1</td>\n",
       "      <td>женат / замужем</td>\n",
       "      <td>0</td>\n",
       "      <td>F</td>\n",
       "      <td>сотрудник</td>\n",
       "      <td>0</td>\n",
       "      <td>112080.014102</td>\n",
       "      <td>приобретение автомобиля</td>\n",
       "    </tr>\n",
       "    <tr>\n",
       "      <th>2</th>\n",
       "      <td>0</td>\n",
       "      <td>-5623.422610</td>\n",
       "      <td>33</td>\n",
       "      <td>Среднее</td>\n",
       "      <td>1</td>\n",
       "      <td>женат / замужем</td>\n",
       "      <td>0</td>\n",
       "      <td>M</td>\n",
       "      <td>сотрудник</td>\n",
       "      <td>0</td>\n",
       "      <td>145885.952297</td>\n",
       "      <td>покупка жилья</td>\n",
       "    </tr>\n",
       "    <tr>\n",
       "      <th>3</th>\n",
       "      <td>3</td>\n",
       "      <td>-4124.747207</td>\n",
       "      <td>32</td>\n",
       "      <td>среднее</td>\n",
       "      <td>1</td>\n",
       "      <td>женат / замужем</td>\n",
       "      <td>0</td>\n",
       "      <td>M</td>\n",
       "      <td>сотрудник</td>\n",
       "      <td>0</td>\n",
       "      <td>267628.550329</td>\n",
       "      <td>дополнительное образование</td>\n",
       "    </tr>\n",
       "    <tr>\n",
       "      <th>4</th>\n",
       "      <td>0</td>\n",
       "      <td>340266.072047</td>\n",
       "      <td>53</td>\n",
       "      <td>среднее</td>\n",
       "      <td>1</td>\n",
       "      <td>гражданский брак</td>\n",
       "      <td>1</td>\n",
       "      <td>F</td>\n",
       "      <td>пенсионер</td>\n",
       "      <td>0</td>\n",
       "      <td>158616.077870</td>\n",
       "      <td>сыграть свадьбу</td>\n",
       "    </tr>\n",
       "    <tr>\n",
       "      <th>5</th>\n",
       "      <td>0</td>\n",
       "      <td>-926.185831</td>\n",
       "      <td>27</td>\n",
       "      <td>высшее</td>\n",
       "      <td>0</td>\n",
       "      <td>гражданский брак</td>\n",
       "      <td>1</td>\n",
       "      <td>M</td>\n",
       "      <td>компаньон</td>\n",
       "      <td>0</td>\n",
       "      <td>255763.565419</td>\n",
       "      <td>покупка жилья</td>\n",
       "    </tr>\n",
       "    <tr>\n",
       "      <th>6</th>\n",
       "      <td>0</td>\n",
       "      <td>-2879.202052</td>\n",
       "      <td>43</td>\n",
       "      <td>высшее</td>\n",
       "      <td>0</td>\n",
       "      <td>женат / замужем</td>\n",
       "      <td>0</td>\n",
       "      <td>F</td>\n",
       "      <td>компаньон</td>\n",
       "      <td>0</td>\n",
       "      <td>240525.971920</td>\n",
       "      <td>операции с жильем</td>\n",
       "    </tr>\n",
       "    <tr>\n",
       "      <th>7</th>\n",
       "      <td>0</td>\n",
       "      <td>-152.779569</td>\n",
       "      <td>50</td>\n",
       "      <td>СРЕДНЕЕ</td>\n",
       "      <td>1</td>\n",
       "      <td>женат / замужем</td>\n",
       "      <td>0</td>\n",
       "      <td>M</td>\n",
       "      <td>сотрудник</td>\n",
       "      <td>0</td>\n",
       "      <td>135823.934197</td>\n",
       "      <td>образование</td>\n",
       "    </tr>\n",
       "    <tr>\n",
       "      <th>8</th>\n",
       "      <td>2</td>\n",
       "      <td>-6929.865299</td>\n",
       "      <td>35</td>\n",
       "      <td>ВЫСШЕЕ</td>\n",
       "      <td>0</td>\n",
       "      <td>гражданский брак</td>\n",
       "      <td>1</td>\n",
       "      <td>F</td>\n",
       "      <td>сотрудник</td>\n",
       "      <td>0</td>\n",
       "      <td>95856.832424</td>\n",
       "      <td>на проведение свадьбы</td>\n",
       "    </tr>\n",
       "    <tr>\n",
       "      <th>9</th>\n",
       "      <td>0</td>\n",
       "      <td>-2188.756445</td>\n",
       "      <td>41</td>\n",
       "      <td>среднее</td>\n",
       "      <td>1</td>\n",
       "      <td>женат / замужем</td>\n",
       "      <td>0</td>\n",
       "      <td>M</td>\n",
       "      <td>сотрудник</td>\n",
       "      <td>0</td>\n",
       "      <td>144425.938277</td>\n",
       "      <td>покупка жилья для семьи</td>\n",
       "    </tr>\n",
       "    <tr>\n",
       "      <th>10</th>\n",
       "      <td>2</td>\n",
       "      <td>-4171.483647</td>\n",
       "      <td>36</td>\n",
       "      <td>высшее</td>\n",
       "      <td>0</td>\n",
       "      <td>женат / замужем</td>\n",
       "      <td>0</td>\n",
       "      <td>M</td>\n",
       "      <td>компаньон</td>\n",
       "      <td>0</td>\n",
       "      <td>113943.491460</td>\n",
       "      <td>покупка недвижимости</td>\n",
       "    </tr>\n",
       "    <tr>\n",
       "      <th>11</th>\n",
       "      <td>0</td>\n",
       "      <td>-792.701887</td>\n",
       "      <td>40</td>\n",
       "      <td>среднее</td>\n",
       "      <td>1</td>\n",
       "      <td>женат / замужем</td>\n",
       "      <td>0</td>\n",
       "      <td>F</td>\n",
       "      <td>сотрудник</td>\n",
       "      <td>0</td>\n",
       "      <td>77069.234271</td>\n",
       "      <td>покупка коммерческой недвижимости</td>\n",
       "    </tr>\n",
       "    <tr>\n",
       "      <th>12</th>\n",
       "      <td>0</td>\n",
       "      <td>NaN</td>\n",
       "      <td>65</td>\n",
       "      <td>среднее</td>\n",
       "      <td>1</td>\n",
       "      <td>гражданский брак</td>\n",
       "      <td>1</td>\n",
       "      <td>M</td>\n",
       "      <td>пенсионер</td>\n",
       "      <td>0</td>\n",
       "      <td>NaN</td>\n",
       "      <td>сыграть свадьбу</td>\n",
       "    </tr>\n",
       "    <tr>\n",
       "      <th>13</th>\n",
       "      <td>0</td>\n",
       "      <td>-1846.641941</td>\n",
       "      <td>54</td>\n",
       "      <td>неоконченное высшее</td>\n",
       "      <td>2</td>\n",
       "      <td>женат / замужем</td>\n",
       "      <td>0</td>\n",
       "      <td>F</td>\n",
       "      <td>сотрудник</td>\n",
       "      <td>0</td>\n",
       "      <td>130458.228857</td>\n",
       "      <td>приобретение автомобиля</td>\n",
       "    </tr>\n",
       "    <tr>\n",
       "      <th>14</th>\n",
       "      <td>0</td>\n",
       "      <td>-1844.956182</td>\n",
       "      <td>56</td>\n",
       "      <td>высшее</td>\n",
       "      <td>0</td>\n",
       "      <td>гражданский брак</td>\n",
       "      <td>1</td>\n",
       "      <td>F</td>\n",
       "      <td>компаньон</td>\n",
       "      <td>1</td>\n",
       "      <td>165127.911772</td>\n",
       "      <td>покупка жилой недвижимости</td>\n",
       "    </tr>\n",
       "    <tr>\n",
       "      <th>15</th>\n",
       "      <td>1</td>\n",
       "      <td>-972.364419</td>\n",
       "      <td>26</td>\n",
       "      <td>среднее</td>\n",
       "      <td>1</td>\n",
       "      <td>женат / замужем</td>\n",
       "      <td>0</td>\n",
       "      <td>F</td>\n",
       "      <td>сотрудник</td>\n",
       "      <td>0</td>\n",
       "      <td>116820.904450</td>\n",
       "      <td>строительство собственной недвижимости</td>\n",
       "    </tr>\n",
       "    <tr>\n",
       "      <th>16</th>\n",
       "      <td>0</td>\n",
       "      <td>-1719.934226</td>\n",
       "      <td>35</td>\n",
       "      <td>среднее</td>\n",
       "      <td>1</td>\n",
       "      <td>женат / замужем</td>\n",
       "      <td>0</td>\n",
       "      <td>F</td>\n",
       "      <td>сотрудник</td>\n",
       "      <td>0</td>\n",
       "      <td>289202.704229</td>\n",
       "      <td>недвижимость</td>\n",
       "    </tr>\n",
       "    <tr>\n",
       "      <th>17</th>\n",
       "      <td>0</td>\n",
       "      <td>-2369.999720</td>\n",
       "      <td>33</td>\n",
       "      <td>высшее</td>\n",
       "      <td>0</td>\n",
       "      <td>гражданский брак</td>\n",
       "      <td>1</td>\n",
       "      <td>M</td>\n",
       "      <td>сотрудник</td>\n",
       "      <td>0</td>\n",
       "      <td>90410.586745</td>\n",
       "      <td>строительство недвижимости</td>\n",
       "    </tr>\n",
       "    <tr>\n",
       "      <th>18</th>\n",
       "      <td>0</td>\n",
       "      <td>400281.136913</td>\n",
       "      <td>53</td>\n",
       "      <td>среднее</td>\n",
       "      <td>1</td>\n",
       "      <td>вдовец / вдова</td>\n",
       "      <td>2</td>\n",
       "      <td>F</td>\n",
       "      <td>пенсионер</td>\n",
       "      <td>0</td>\n",
       "      <td>56823.777243</td>\n",
       "      <td>на покупку подержанного автомобиля</td>\n",
       "    </tr>\n",
       "    <tr>\n",
       "      <th>19</th>\n",
       "      <td>0</td>\n",
       "      <td>-10038.818549</td>\n",
       "      <td>48</td>\n",
       "      <td>СРЕДНЕЕ</td>\n",
       "      <td>1</td>\n",
       "      <td>в разводе</td>\n",
       "      <td>3</td>\n",
       "      <td>F</td>\n",
       "      <td>сотрудник</td>\n",
       "      <td>0</td>\n",
       "      <td>242831.107982</td>\n",
       "      <td>на покупку своего автомобиля</td>\n",
       "    </tr>\n",
       "  </tbody>\n",
       "</table>\n",
       "</div>"
      ],
      "text/plain": [
       "    children  days_employed  dob_years            education  education_id  \\\n",
       "0          1   -8437.673028         42               высшее             0   \n",
       "1          1   -4024.803754         36              среднее             1   \n",
       "2          0   -5623.422610         33              Среднее             1   \n",
       "3          3   -4124.747207         32              среднее             1   \n",
       "4          0  340266.072047         53              среднее             1   \n",
       "5          0    -926.185831         27               высшее             0   \n",
       "6          0   -2879.202052         43               высшее             0   \n",
       "7          0    -152.779569         50              СРЕДНЕЕ             1   \n",
       "8          2   -6929.865299         35               ВЫСШЕЕ             0   \n",
       "9          0   -2188.756445         41              среднее             1   \n",
       "10         2   -4171.483647         36               высшее             0   \n",
       "11         0    -792.701887         40              среднее             1   \n",
       "12         0            NaN         65              среднее             1   \n",
       "13         0   -1846.641941         54  неоконченное высшее             2   \n",
       "14         0   -1844.956182         56               высшее             0   \n",
       "15         1    -972.364419         26              среднее             1   \n",
       "16         0   -1719.934226         35              среднее             1   \n",
       "17         0   -2369.999720         33               высшее             0   \n",
       "18         0  400281.136913         53              среднее             1   \n",
       "19         0  -10038.818549         48              СРЕДНЕЕ             1   \n",
       "\n",
       "       family_status  family_status_id gender income_type  debt  \\\n",
       "0    женат / замужем                 0      F   сотрудник     0   \n",
       "1    женат / замужем                 0      F   сотрудник     0   \n",
       "2    женат / замужем                 0      M   сотрудник     0   \n",
       "3    женат / замужем                 0      M   сотрудник     0   \n",
       "4   гражданский брак                 1      F   пенсионер     0   \n",
       "5   гражданский брак                 1      M   компаньон     0   \n",
       "6    женат / замужем                 0      F   компаньон     0   \n",
       "7    женат / замужем                 0      M   сотрудник     0   \n",
       "8   гражданский брак                 1      F   сотрудник     0   \n",
       "9    женат / замужем                 0      M   сотрудник     0   \n",
       "10   женат / замужем                 0      M   компаньон     0   \n",
       "11   женат / замужем                 0      F   сотрудник     0   \n",
       "12  гражданский брак                 1      M   пенсионер     0   \n",
       "13   женат / замужем                 0      F   сотрудник     0   \n",
       "14  гражданский брак                 1      F   компаньон     1   \n",
       "15   женат / замужем                 0      F   сотрудник     0   \n",
       "16   женат / замужем                 0      F   сотрудник     0   \n",
       "17  гражданский брак                 1      M   сотрудник     0   \n",
       "18    вдовец / вдова                 2      F   пенсионер     0   \n",
       "19         в разводе                 3      F   сотрудник     0   \n",
       "\n",
       "     total_income                                 purpose  \n",
       "0   253875.639453                           покупка жилья  \n",
       "1   112080.014102                 приобретение автомобиля  \n",
       "2   145885.952297                           покупка жилья  \n",
       "3   267628.550329              дополнительное образование  \n",
       "4   158616.077870                         сыграть свадьбу  \n",
       "5   255763.565419                           покупка жилья  \n",
       "6   240525.971920                       операции с жильем  \n",
       "7   135823.934197                             образование  \n",
       "8    95856.832424                   на проведение свадьбы  \n",
       "9   144425.938277                 покупка жилья для семьи  \n",
       "10  113943.491460                    покупка недвижимости  \n",
       "11   77069.234271       покупка коммерческой недвижимости  \n",
       "12            NaN                         сыграть свадьбу  \n",
       "13  130458.228857                 приобретение автомобиля  \n",
       "14  165127.911772              покупка жилой недвижимости  \n",
       "15  116820.904450  строительство собственной недвижимости  \n",
       "16  289202.704229                            недвижимость  \n",
       "17   90410.586745              строительство недвижимости  \n",
       "18   56823.777243      на покупку подержанного автомобиля  \n",
       "19  242831.107982            на покупку своего автомобиля  "
      ]
     },
     "metadata": {},
     "output_type": "display_data"
    },
    {
     "data": {
      "text/html": [
       "<div>\n",
       "<style scoped>\n",
       "    .dataframe tbody tr th:only-of-type {\n",
       "        vertical-align: middle;\n",
       "    }\n",
       "\n",
       "    .dataframe tbody tr th {\n",
       "        vertical-align: top;\n",
       "    }\n",
       "\n",
       "    .dataframe thead th {\n",
       "        text-align: right;\n",
       "    }\n",
       "</style>\n",
       "<table border=\"1\" class=\"dataframe\">\n",
       "  <thead>\n",
       "    <tr style=\"text-align: right;\">\n",
       "      <th></th>\n",
       "      <th>children</th>\n",
       "      <th>days_employed</th>\n",
       "      <th>dob_years</th>\n",
       "      <th>education_id</th>\n",
       "      <th>family_status_id</th>\n",
       "      <th>debt</th>\n",
       "      <th>total_income</th>\n",
       "    </tr>\n",
       "  </thead>\n",
       "  <tbody>\n",
       "    <tr>\n",
       "      <th>count</th>\n",
       "      <td>21525.000000</td>\n",
       "      <td>19351.000000</td>\n",
       "      <td>21525.000000</td>\n",
       "      <td>21525.000000</td>\n",
       "      <td>21525.000000</td>\n",
       "      <td>21525.000000</td>\n",
       "      <td>1.935100e+04</td>\n",
       "    </tr>\n",
       "    <tr>\n",
       "      <th>mean</th>\n",
       "      <td>0.538908</td>\n",
       "      <td>63046.497661</td>\n",
       "      <td>43.293380</td>\n",
       "      <td>0.817236</td>\n",
       "      <td>0.972544</td>\n",
       "      <td>0.080883</td>\n",
       "      <td>1.674223e+05</td>\n",
       "    </tr>\n",
       "    <tr>\n",
       "      <th>std</th>\n",
       "      <td>1.381587</td>\n",
       "      <td>140827.311974</td>\n",
       "      <td>12.574584</td>\n",
       "      <td>0.548138</td>\n",
       "      <td>1.420324</td>\n",
       "      <td>0.272661</td>\n",
       "      <td>1.029716e+05</td>\n",
       "    </tr>\n",
       "    <tr>\n",
       "      <th>min</th>\n",
       "      <td>-1.000000</td>\n",
       "      <td>-18388.949901</td>\n",
       "      <td>0.000000</td>\n",
       "      <td>0.000000</td>\n",
       "      <td>0.000000</td>\n",
       "      <td>0.000000</td>\n",
       "      <td>2.066726e+04</td>\n",
       "    </tr>\n",
       "    <tr>\n",
       "      <th>25%</th>\n",
       "      <td>0.000000</td>\n",
       "      <td>-2747.423625</td>\n",
       "      <td>33.000000</td>\n",
       "      <td>1.000000</td>\n",
       "      <td>0.000000</td>\n",
       "      <td>0.000000</td>\n",
       "      <td>1.030532e+05</td>\n",
       "    </tr>\n",
       "    <tr>\n",
       "      <th>50%</th>\n",
       "      <td>0.000000</td>\n",
       "      <td>-1203.369529</td>\n",
       "      <td>42.000000</td>\n",
       "      <td>1.000000</td>\n",
       "      <td>0.000000</td>\n",
       "      <td>0.000000</td>\n",
       "      <td>1.450179e+05</td>\n",
       "    </tr>\n",
       "    <tr>\n",
       "      <th>75%</th>\n",
       "      <td>1.000000</td>\n",
       "      <td>-291.095954</td>\n",
       "      <td>53.000000</td>\n",
       "      <td>1.000000</td>\n",
       "      <td>1.000000</td>\n",
       "      <td>0.000000</td>\n",
       "      <td>2.034351e+05</td>\n",
       "    </tr>\n",
       "    <tr>\n",
       "      <th>max</th>\n",
       "      <td>20.000000</td>\n",
       "      <td>401755.400475</td>\n",
       "      <td>75.000000</td>\n",
       "      <td>4.000000</td>\n",
       "      <td>4.000000</td>\n",
       "      <td>1.000000</td>\n",
       "      <td>2.265604e+06</td>\n",
       "    </tr>\n",
       "  </tbody>\n",
       "</table>\n",
       "</div>"
      ],
      "text/plain": [
       "           children  days_employed     dob_years  education_id  \\\n",
       "count  21525.000000   19351.000000  21525.000000  21525.000000   \n",
       "mean       0.538908   63046.497661     43.293380      0.817236   \n",
       "std        1.381587  140827.311974     12.574584      0.548138   \n",
       "min       -1.000000  -18388.949901      0.000000      0.000000   \n",
       "25%        0.000000   -2747.423625     33.000000      1.000000   \n",
       "50%        0.000000   -1203.369529     42.000000      1.000000   \n",
       "75%        1.000000    -291.095954     53.000000      1.000000   \n",
       "max       20.000000  401755.400475     75.000000      4.000000   \n",
       "\n",
       "       family_status_id          debt  total_income  \n",
       "count      21525.000000  21525.000000  1.935100e+04  \n",
       "mean           0.972544      0.080883  1.674223e+05  \n",
       "std            1.420324      0.272661  1.029716e+05  \n",
       "min            0.000000      0.000000  2.066726e+04  \n",
       "25%            0.000000      0.000000  1.030532e+05  \n",
       "50%            0.000000      0.000000  1.450179e+05  \n",
       "75%            1.000000      0.000000  2.034351e+05  \n",
       "max            4.000000      1.000000  2.265604e+06  "
      ]
     },
     "metadata": {},
     "output_type": "display_data"
    }
   ],
   "source": [
    "data = pd.read_csv('datasets/data.csv')\n",
    "data.info()\n",
    "display(data.head(20), data.describe())"
   ]
  },
  {
   "cell_type": "markdown",
   "id": "e8911c3f-3d69-410b-8fdc-37e9cbe56123",
   "metadata": {},
   "source": [
    "**Conclusion**\n",
    "\n",
    "The dataset contains information about the bank's borrowers, with various data. As you can see, there are data problems in the Data Frame, such as missing values, incorrect formats, duplicates. Abnormal values are visible from the statistics. Data preprocessing is required."
   ]
  },
  {
   "cell_type": "markdown",
   "id": "23c0b98b-5ebe-49ba-ae20-b0dd08b2ca3c",
   "metadata": {},
   "source": [
    "## Data preprocessing"
   ]
  },
  {
   "cell_type": "markdown",
   "id": "ad9733cd-90fe-4eca-b4c3-9c35cb4e5cf6",
   "metadata": {},
   "source": [
    "### Missing values"
   ]
  },
  {
   "cell_type": "markdown",
   "id": "acb596de-74bd-4db1-9d26-1fd9d574138b",
   "metadata": {},
   "source": [
    "Print the number of missing values for each column"
   ]
  },
  {
   "cell_type": "code",
   "execution_count": 3,
   "id": "cdea45ac-7955-4ae4-aa6a-1e8ad1f341f8",
   "metadata": {},
   "outputs": [
    {
     "data": {
      "text/plain": [
       "children               0\n",
       "days_employed       2174\n",
       "dob_years              0\n",
       "education              0\n",
       "education_id           0\n",
       "family_status          0\n",
       "family_status_id       0\n",
       "gender                 0\n",
       "income_type            0\n",
       "debt                   0\n",
       "total_income        2174\n",
       "purpose                0\n",
       "dtype: int64"
      ]
     },
     "execution_count": 3,
     "metadata": {},
     "output_type": "execute_result"
    }
   ],
   "source": [
    "data.isna().sum()"
   ]
  },
  {
   "cell_type": "markdown",
   "id": "9e3db763-9d41-4d96-af32-d37388d88d1f",
   "metadata": {},
   "source": [
    "Two columns have missing values. One of them is `days_employed`. The omissions in this column will be handled in the next step. The other column with missing values, `total_income`, stores income data. The amount of income is most influenced by the type of employment, so fill in the missing values in this column with the median value for each type from the `income_type` column."
   ]
  },
  {
   "cell_type": "code",
   "execution_count": 4,
   "id": "ea30be1a-15c8-4db5-a960-7931d78c6bb8",
   "metadata": {},
   "outputs": [],
   "source": [
    "# Imputation of missing values with median in 'total income' column depending on 'income type'\n",
    "for t in data['income_type'].unique():\n",
    "    data.loc[(data['income_type'] == t) & (data['total_income'].isna()), 'total_income'] = \\\n",
    "    data.loc[(data['income_type'] == t), 'total_income'].median()"
   ]
  },
  {
   "cell_type": "markdown",
   "id": "890706ad-57f5-4492-8a93-7d79e97ed5ec",
   "metadata": {},
   "source": [
    "### Abnormal values"
   ]
  },
  {
   "cell_type": "markdown",
   "id": "13c983b8-0679-4952-8e41-edf2004f80fd",
   "metadata": {},
   "source": [
    "Abnormal values may occur in the data - values that do not reflect the reality and appeared due to some error. Such a value would be a negative number of days of employment history in the `days_employed` column. This is normal for real data. Process the values in this column: replace all negative values with positive ones using the `abs()` method."
   ]
  },
  {
   "cell_type": "code",
   "execution_count": 5,
   "id": "88ef6e60-4c3d-4232-9eab-84ee3d6082e6",
   "metadata": {},
   "outputs": [
    {
     "data": {
      "text/plain": [
       "income_type\n",
       "безработный        366413.652744\n",
       "в декрете            3296.759962\n",
       "госслужащий          2689.368353\n",
       "компаньон            1547.382223\n",
       "пенсионер          365213.306266\n",
       "предприниматель       520.848083\n",
       "сотрудник            1574.202821\n",
       "студент               578.751554\n",
       "Name: days_employed, dtype: float64"
      ]
     },
     "execution_count": 5,
     "metadata": {},
     "output_type": "execute_result"
    }
   ],
   "source": [
    "# Bringing the data to the correct form\n",
    "data['days_employed'] = data['days_employed'].abs()\n",
    "\n",
    "# For each type of employment, output the median value of days_employed in days.\n",
    "data.groupby('income_type')['days_employed'].agg('median')"
   ]
  },
  {
   "cell_type": "markdown",
   "id": "8867fda8-e42a-4c44-8fd3-216a42912035",
   "metadata": {},
   "source": [
    "Two types (unemployed `безработный` and pensioners `пенсионер`) will have abnormally large values. It is difficult to correct such values, so leave them as they are. Moreover, this column will not be needed for the study."
   ]
  },
  {
   "cell_type": "markdown",
   "id": "b2cf8810-b9f3-4993-86c7-b9cd45ffbfe3",
   "metadata": {},
   "source": [
    "Print the list of unique values of the `children` column."
   ]
  },
  {
   "cell_type": "code",
   "execution_count": 6,
   "id": "194e277f-0588-4c84-bb0a-4cde0d41d5a2",
   "metadata": {},
   "outputs": [
    {
     "data": {
      "text/plain": [
       "array([ 1,  0,  3,  2, -1,  4, 20,  5], dtype=int64)"
      ]
     },
     "execution_count": 6,
     "metadata": {},
     "output_type": "execute_result"
    }
   ],
   "source": [
    "data['children'].unique()"
   ]
  },
  {
   "cell_type": "markdown",
   "id": "cfc09d29-929e-429b-8436-19c3048feaa5",
   "metadata": {},
   "source": [
    "As you can see, there are two abnormal values in the `children` column. Remove the rows with such abnormal values from the dataframe and display the list of unique values in the children column again to make sure that the abnormalities are removed."
   ]
  },
  {
   "cell_type": "code",
   "execution_count": 7,
   "id": "2cefac5f-a6dc-4daf-8a9c-4375260efe83",
   "metadata": {},
   "outputs": [
    {
     "data": {
      "text/plain": [
       "array([1, 0, 3, 2, 4, 5], dtype=int64)"
      ]
     },
     "execution_count": 7,
     "metadata": {},
     "output_type": "execute_result"
    }
   ],
   "source": [
    "data = data[(data['children'] != -1) & (data['children'] != 20)]\n",
    "data['children'].unique()"
   ]
  },
  {
   "cell_type": "markdown",
   "id": "ba2f819f-0798-43b0-aceb-3890b074c79c",
   "metadata": {},
   "source": [
    "### Missing values (continued)"
   ]
  },
  {
   "cell_type": "markdown",
   "id": "f829dc52-011a-4e7e-a321-8d92e4cf0ff7",
   "metadata": {},
   "source": [
    "Fill in the missing values in the `days_employed` column with the median values for each `income_type` employment type."
   ]
  },
  {
   "cell_type": "code",
   "execution_count": 8,
   "id": "5ed524c7-8f26-4200-89f4-e79b887d6715",
   "metadata": {},
   "outputs": [],
   "source": [
    "for t in data['income_type'].unique():\n",
    "    data.loc[(data['income_type'] == t) & (data['days_employed'].isna()), 'days_employed'] = \\\n",
    "    data.loc[(data['income_type'] == t), 'days_employed'].median()"
   ]
  },
  {
   "cell_type": "markdown",
   "id": "d2eee5c5-fea4-4d9d-b0c8-40e318c22a10",
   "metadata": {},
   "source": [
    "Let's make sure all missing values are filled in."
   ]
  },
  {
   "cell_type": "code",
   "execution_count": 9,
   "id": "4bb7772a-906d-4971-b501-93c8b27385ef",
   "metadata": {},
   "outputs": [
    {
     "data": {
      "text/plain": [
       "children            0\n",
       "days_employed       0\n",
       "dob_years           0\n",
       "education           0\n",
       "education_id        0\n",
       "family_status       0\n",
       "family_status_id    0\n",
       "gender              0\n",
       "income_type         0\n",
       "debt                0\n",
       "total_income        0\n",
       "purpose             0\n",
       "dtype: int64"
      ]
     },
     "execution_count": 9,
     "metadata": {},
     "output_type": "execute_result"
    }
   ],
   "source": [
    "data.isna().sum()"
   ]
  },
  {
   "cell_type": "markdown",
   "id": "9f43e93f-61be-4d8c-8b3f-6e3029c02d03",
   "metadata": {},
   "source": [
    "### Data type changes"
   ]
  },
  {
   "cell_type": "markdown",
   "id": "30342e5a-e278-4548-a47d-5ce377f8d1c5",
   "metadata": {},
   "source": [
    "Replace the `float` data type in the `total_income` column with `int`"
   ]
  },
  {
   "cell_type": "code",
   "execution_count": 10,
   "id": "76d9317f-b795-45fb-a6ca-e2eeb4c0c3b7",
   "metadata": {},
   "outputs": [],
   "source": [
    "data['total_income'] = data['total_income'].astype(int)"
   ]
  },
  {
   "cell_type": "markdown",
   "id": "5b390f04-92a5-4616-8cba-d8cff77749b1",
   "metadata": {},
   "source": [
    "### Duplicates"
   ]
  },
  {
   "cell_type": "markdown",
   "id": "732f2a0f-85b2-4ab6-a027-250c555e3d3f",
   "metadata": {},
   "source": [
    "Handle implicit duplicates in the `education` column. This column contains the same values, but written in different ways: using uppercase and lowercase letters. Bring them to lower case. Check the other columns. Display the number of duplicate rows in the data. If such rows are present, delete them."
   ]
  },
  {
   "cell_type": "code",
   "execution_count": 11,
   "id": "5839da2c-fb8f-4638-87c4-f4cd487ce0e9",
   "metadata": {},
   "outputs": [
    {
     "data": {
      "text/plain": [
       "71"
      ]
     },
     "execution_count": 11,
     "metadata": {},
     "output_type": "execute_result"
    }
   ],
   "source": [
    "data['education'] = data['education'].str.lower()\n",
    "data.duplicated().sum()"
   ]
  },
  {
   "cell_type": "code",
   "execution_count": 12,
   "id": "c248007c-52bc-4ba0-8e1b-1f56dcf2cb6d",
   "metadata": {},
   "outputs": [],
   "source": [
    "data = data.drop_duplicates()"
   ]
  },
  {
   "cell_type": "markdown",
   "id": "494b7480-6bee-46fe-a98f-ea61e07dd1b9",
   "metadata": {},
   "source": [
    "### Data categorization"
   ]
  },
  {
   "cell_type": "markdown",
   "id": "2a242b46-afac-4e9a-9211-fa44f02553fa",
   "metadata": {},
   "source": [
    "#### Income"
   ]
  },
  {
   "cell_type": "markdown",
   "id": "96e04dd4-83d7-45a1-98c4-0112841f68a2",
   "metadata": {},
   "source": [
    "Based on the ranges below, create a `total_income_category` column in the `data` dataframe with categories:\n",
    "\n",
    "- 0-30'000 - `'E'`;\n",
    "- 30'001-50'000 - `'D'`;\n",
    "- 50'001-200'000 - `'C'`;\n",
    "- 200'001-1'000'000 - `'B'`;\n",
    "- 1'000'001 and higher - `'A'`.\n",
    "\n",
    "For example, a borrower with an income of 25'000 should be categorized as 'E' and a client earning 235'000 should be categorized as 'B'. Use the function named `categorize_income()` and the `apply()` method."
   ]
  },
  {
   "cell_type": "code",
   "execution_count": 13,
   "id": "3df2f299-838e-4bcd-9ea0-1635e878b86d",
   "metadata": {},
   "outputs": [],
   "source": [
    "def categorize_income(income):\n",
    "    '''\n",
    "    Returns the income level category by column value\n",
    "    '''\n",
    "    try:\n",
    "        if 0 <= income <= 30000:\n",
    "            return 'E'\n",
    "        elif 30001 <= income <= 50000:\n",
    "            return 'D'\n",
    "        elif 50001 <= income <= 200000:\n",
    "            return 'C'\n",
    "        elif 200001 <= income <= 1000000:\n",
    "            return 'B'\n",
    "        elif income >= 1000001:\n",
    "            return 'A'\n",
    "    except:\n",
    "        pass\n",
    "\n",
    "# Applying the function to 'total_income' column\n",
    "data['total_income_category'] = data['total_income'].apply(categorize_income)"
   ]
  },
  {
   "cell_type": "markdown",
   "id": "86ac8eb3-57e8-44f7-9930-dbc281842808",
   "metadata": {},
   "source": [
    "#### Purpose"
   ]
  },
  {
   "cell_type": "markdown",
   "id": "5c245148-9a16-4975-b221-dc1041ca71ab",
   "metadata": {},
   "source": [
    "Display a list of unique loan purposes from the `purpose` column."
   ]
  },
  {
   "cell_type": "code",
   "execution_count": 14,
   "id": "c3aaaa39-2403-42a7-916c-00b7c7a05618",
   "metadata": {
    "scrolled": true
   },
   "outputs": [
    {
     "data": {
      "text/plain": [
       "array(['покупка жилья', 'приобретение автомобиля',\n",
       "       'дополнительное образование', 'сыграть свадьбу',\n",
       "       'операции с жильем', 'образование', 'на проведение свадьбы',\n",
       "       'покупка жилья для семьи', 'покупка недвижимости',\n",
       "       'покупка коммерческой недвижимости', 'покупка жилой недвижимости',\n",
       "       'строительство собственной недвижимости', 'недвижимость',\n",
       "       'строительство недвижимости', 'на покупку подержанного автомобиля',\n",
       "       'на покупку своего автомобиля',\n",
       "       'операции с коммерческой недвижимостью',\n",
       "       'строительство жилой недвижимости', 'жилье',\n",
       "       'операции со своей недвижимостью', 'автомобили',\n",
       "       'заняться образованием', 'сделка с подержанным автомобилем',\n",
       "       'получение образования', 'автомобиль', 'свадьба',\n",
       "       'получение дополнительного образования', 'покупка своего жилья',\n",
       "       'операции с недвижимостью', 'получение высшего образования',\n",
       "       'свой автомобиль', 'сделка с автомобилем',\n",
       "       'профильное образование', 'высшее образование',\n",
       "       'покупка жилья для сдачи', 'на покупку автомобиля', 'ремонт жилью',\n",
       "       'заняться высшим образованием'], dtype=object)"
      ]
     },
     "execution_count": 14,
     "metadata": {},
     "output_type": "execute_result"
    }
   ],
   "source": [
    "data['purpose'].unique()"
   ]
  },
  {
   "cell_type": "markdown",
   "id": "5b39a22d-e5c4-4c4f-b988-bdb7808ebdcb",
   "metadata": {},
   "source": [
    "Create a function that will generate a new `purpose_category` column based on the data in the purpose column, which will include the following categories:\n",
    "\n",
    "- `'операции с автомобилем'`;\n",
    "- `'операции с недвижимостью'`;\n",
    "- `'проведение свадьбы'`;\n",
    "- `'получение образования'`.\n",
    "\n",
    "For example, if the purpose column contains the substring `'на покупку автомобиля'`, then the `purpose_category` column should contain the string `'операции с автомобилем'`.\n",
    "\n",
    "Use the `categorize_purpose()` function and the `apply()` method."
   ]
  },
  {
   "cell_type": "code",
   "execution_count": 15,
   "id": "a873b43f-8d1d-49e5-876f-934cfb8c194e",
   "metadata": {},
   "outputs": [],
   "source": [
    "def categorize_purpose(row):\n",
    "    '''\n",
    "    Returns the loan purpose category by column value\n",
    "    '''\n",
    "    try:\n",
    "        if 'автом' in row:\n",
    "            return 'операции с автомобилем'\n",
    "        elif 'жил' in row or 'недвиж' in row:\n",
    "            return 'операции с недвижимостью'\n",
    "        elif 'свад' in row:\n",
    "            return 'проведение свадьбы'\n",
    "        elif 'образов' in row:\n",
    "            return 'получение образования'\n",
    "    except:\n",
    "        return 'нет категории'\n",
    "\n",
    "# Applying the function to 'purpose' column\n",
    "data['purpose_category'] = data['purpose'].apply(categorize_purpose)"
   ]
  },
  {
   "cell_type": "markdown",
   "id": "19d32c70-f629-4442-81d9-8746395afb40",
   "metadata": {},
   "source": [
    "**Conclusions**  \n",
    "\n",
    "We preprocessed the data, filled in missing values with the median, eliminated abnormal values, changed data types where necessary, and got rid of duplicates.   \n",
    "\n",
    "We also categorized the data by adding new columns based on income level and loan purpose.  \n",
    "\n",
    "Next, conduct an exploratory data analysis."
   ]
  },
  {
   "cell_type": "markdown",
   "id": "6e3c59b7-a2f7-4a07-aab3-ee651fdb4e44",
   "metadata": {},
   "source": [
    "## Exploratory data analysis"
   ]
  },
  {
   "cell_type": "markdown",
   "id": "25e05ae2-6005-48b1-b505-3aaf8f786ea4",
   "metadata": {},
   "source": [
    "At this stage it is necessary to find the dependencies on the repayment of the loan on various factors. Prepare a couple of functions for convenience"
   ]
  },
  {
   "cell_type": "code",
   "execution_count": 16,
   "id": "38f74406-cb46-44db-bdd2-bee0650037d3",
   "metadata": {},
   "outputs": [],
   "source": [
    "def corr_frame(column: str, df: pd.DataFrame) -> pd.DataFrame:\n",
    "    '''\n",
    "    Shows statistics on timely repayment of the loan, depending on the attribute.\n",
    "    '''\n",
    "    df_copy = df.copy()\n",
    "    \n",
    "    # Aggregation of borrower data\n",
    "    df_copy = df_copy.pivot_table(index=column, values='debt', aggfunc=['count', 'sum'])\n",
    "    \n",
    "    # Calculation of debtors' share\n",
    "    df_copy['ratio'] = round(df_copy['sum']['debt']/df_copy['count']['debt'] * 100, 2)\n",
    "    \n",
    "    # Calculation of the total share of debtors\n",
    "    df_copy['total'] = round(df['debt'].mean() * 100, 2)\n",
    "\n",
    "    # Getting rid of multiindex\n",
    "    df_copy = df_copy.reset_index(col_level=0)   \n",
    "    df_copy.columns = [column, 'count', 'sum', 'ratio', 'total']\n",
    "    \n",
    "    return df_copy"
   ]
  },
  {
   "cell_type": "code",
   "execution_count": 17,
   "id": "55cb5e1d-6930-44ce-b22c-2416a11d0a88",
   "metadata": {},
   "outputs": [],
   "source": [
    "def corr_plot(column: str, df: pd.DataFrame):\n",
    "    '''\n",
    "    Shows on-time loan repayment statistics by attribute in the plot compared to the total share of debtors.\n",
    "    column: str\n",
    "        The attribute by which dependence is considered.\n",
    "    df: pd.DataFrame\n",
    "        DataFrame from the previous function.\n",
    "    '''\n",
    "    y = df[column]\n",
    "    x1 = df['ratio']\n",
    "    x2 = [df['total'].values[0] for _ in range(len(df['ratio']))]\n",
    "    \n",
    "    x = np.arange(len(y))\n",
    "    cm = plt.colormaps.get_cmap('Greens_r')\n",
    "    colors = [cm(v) for v in np.linspace(0, 0.7, len(y))]\n",
    "    width = 0.3\n",
    "    \n",
    "    fig, ax = plt.subplots(figsize=(6, 6))\n",
    "    ax.bar(x - width/2, x1, width, color = colors)\n",
    "    ax.bar(x + width/2, x2, width, color = 'orange')\n",
    "    \n",
    "    ax.set_title(f'Solvency of clients by {column}')\n",
    "    ax.set_xticks(x)\n",
    "    ax.set_xticklabels(y, fontsize = 8)\n",
    "    fig.autofmt_xdate(rotation = 30 if type(y.values[0]) == str and len(y.values[0]) > 1 else 0)\n",
    "    plt.legend((column, 'total'))\n",
    "    \n",
    "    plt.ylabel ('Debt ratio', fontsize = 8)\n",
    "    plt.xlabel (column, fontsize = 8)\n",
    "    plt.show()"
   ]
  },
  {
   "cell_type": "markdown",
   "id": "1df6e303-171b-4f36-82f8-ca5ec7789bdc",
   "metadata": {},
   "source": [
    "### Is there a correlation between the number of children and loan repayment on time?"
   ]
  },
  {
   "cell_type": "code",
   "execution_count": 18,
   "id": "0d9f41aa-0ce3-46a2-96f9-16ab3a26ce8f",
   "metadata": {},
   "outputs": [
    {
     "data": {
      "text/html": [
       "<div>\n",
       "<style scoped>\n",
       "    .dataframe tbody tr th:only-of-type {\n",
       "        vertical-align: middle;\n",
       "    }\n",
       "\n",
       "    .dataframe tbody tr th {\n",
       "        vertical-align: top;\n",
       "    }\n",
       "\n",
       "    .dataframe thead th {\n",
       "        text-align: right;\n",
       "    }\n",
       "</style>\n",
       "<table border=\"1\" class=\"dataframe\">\n",
       "  <thead>\n",
       "    <tr style=\"text-align: right;\">\n",
       "      <th></th>\n",
       "      <th>children</th>\n",
       "      <th>count</th>\n",
       "      <th>sum</th>\n",
       "      <th>ratio</th>\n",
       "      <th>total</th>\n",
       "    </tr>\n",
       "  </thead>\n",
       "  <tbody>\n",
       "    <tr>\n",
       "      <th>0</th>\n",
       "      <td>0</td>\n",
       "      <td>14091</td>\n",
       "      <td>1063</td>\n",
       "      <td>7.54</td>\n",
       "      <td>8.12</td>\n",
       "    </tr>\n",
       "    <tr>\n",
       "      <th>1</th>\n",
       "      <td>1</td>\n",
       "      <td>4808</td>\n",
       "      <td>444</td>\n",
       "      <td>9.23</td>\n",
       "      <td>8.12</td>\n",
       "    </tr>\n",
       "    <tr>\n",
       "      <th>2</th>\n",
       "      <td>2</td>\n",
       "      <td>2052</td>\n",
       "      <td>194</td>\n",
       "      <td>9.45</td>\n",
       "      <td>8.12</td>\n",
       "    </tr>\n",
       "    <tr>\n",
       "      <th>3</th>\n",
       "      <td>3</td>\n",
       "      <td>330</td>\n",
       "      <td>27</td>\n",
       "      <td>8.18</td>\n",
       "      <td>8.12</td>\n",
       "    </tr>\n",
       "    <tr>\n",
       "      <th>4</th>\n",
       "      <td>4</td>\n",
       "      <td>41</td>\n",
       "      <td>4</td>\n",
       "      <td>9.76</td>\n",
       "      <td>8.12</td>\n",
       "    </tr>\n",
       "    <tr>\n",
       "      <th>5</th>\n",
       "      <td>5</td>\n",
       "      <td>9</td>\n",
       "      <td>0</td>\n",
       "      <td>0.00</td>\n",
       "      <td>8.12</td>\n",
       "    </tr>\n",
       "  </tbody>\n",
       "</table>\n",
       "</div>"
      ],
      "text/plain": [
       "   children  count   sum  ratio  total\n",
       "0         0  14091  1063   7.54   8.12\n",
       "1         1   4808   444   9.23   8.12\n",
       "2         2   2052   194   9.45   8.12\n",
       "3         3    330    27   8.18   8.12\n",
       "4         4     41     4   9.76   8.12\n",
       "5         5      9     0   0.00   8.12"
      ]
     },
     "execution_count": 18,
     "metadata": {},
     "output_type": "execute_result"
    }
   ],
   "source": [
    "corr_frame('children', data)"
   ]
  },
  {
   "cell_type": "code",
   "execution_count": 19,
   "id": "f97398d7-314f-4052-9a7e-326e6279eec7",
   "metadata": {},
   "outputs": [
    {
     "data": {
      "image/png": "[encoded data removed]",
      "text/plain": [
       "<Figure size 600x600 with 1 Axes>"
      ]
     },
     "metadata": {},
     "output_type": "display_data"
    }
   ],
   "source": [
    "corr_plot('children', corr_frame('children', data))"
   ]
  },
  {
   "cell_type": "markdown",
   "id": "752ead58-004a-4a09-adf7-ed4e95421bab",
   "metadata": {},
   "source": [
    "Judging by the data it would be reasonable to exclude classes with 3 and more children because of insufficient data or to combine them into one general one, although in this case it will not increase the significance much, but if we take into account that any amount of data gives a reason for research, then according to the graph we can conclude that the most responsible are borrowers without children and with 5 children, the least responsible are borrowers with 1, 2 and 4 children, so the difference between them is small. \n",
    "Borrowers with 3 children can be referred to the middle category as the percentage of debt is almost identical to the total share of debt for the whole dataframe."
   ]
  },
  {
   "cell_type": "markdown",
   "id": "a2f448cf-ea13-4276-8ec1-ddee992fb0a6",
   "metadata": {},
   "source": [
    "### Is there a correlation between marital status and loan repayment on time?"
   ]
  },
  {
   "cell_type": "code",
   "execution_count": 20,
   "id": "8a00beb4-f7f3-46d1-b1d0-2a39eb1ca161",
   "metadata": {},
   "outputs": [
    {
     "data": {
      "text/html": [
       "<div>\n",
       "<style scoped>\n",
       "    .dataframe tbody tr th:only-of-type {\n",
       "        vertical-align: middle;\n",
       "    }\n",
       "\n",
       "    .dataframe tbody tr th {\n",
       "        vertical-align: top;\n",
       "    }\n",
       "\n",
       "    .dataframe thead th {\n",
       "        text-align: right;\n",
       "    }\n",
       "</style>\n",
       "<table border=\"1\" class=\"dataframe\">\n",
       "  <thead>\n",
       "    <tr style=\"text-align: right;\">\n",
       "      <th></th>\n",
       "      <th>family_status</th>\n",
       "      <th>count</th>\n",
       "      <th>sum</th>\n",
       "      <th>ratio</th>\n",
       "      <th>total</th>\n",
       "    </tr>\n",
       "  </thead>\n",
       "  <tbody>\n",
       "    <tr>\n",
       "      <th>0</th>\n",
       "      <td>Не женат / не замужем</td>\n",
       "      <td>2796</td>\n",
       "      <td>273</td>\n",
       "      <td>9.76</td>\n",
       "      <td>8.12</td>\n",
       "    </tr>\n",
       "    <tr>\n",
       "      <th>1</th>\n",
       "      <td>в разводе</td>\n",
       "      <td>1189</td>\n",
       "      <td>84</td>\n",
       "      <td>7.06</td>\n",
       "      <td>8.12</td>\n",
       "    </tr>\n",
       "    <tr>\n",
       "      <th>2</th>\n",
       "      <td>вдовец / вдова</td>\n",
       "      <td>951</td>\n",
       "      <td>63</td>\n",
       "      <td>6.62</td>\n",
       "      <td>8.12</td>\n",
       "    </tr>\n",
       "    <tr>\n",
       "      <th>3</th>\n",
       "      <td>гражданский брак</td>\n",
       "      <td>4134</td>\n",
       "      <td>385</td>\n",
       "      <td>9.31</td>\n",
       "      <td>8.12</td>\n",
       "    </tr>\n",
       "    <tr>\n",
       "      <th>4</th>\n",
       "      <td>женат / замужем</td>\n",
       "      <td>12261</td>\n",
       "      <td>927</td>\n",
       "      <td>7.56</td>\n",
       "      <td>8.12</td>\n",
       "    </tr>\n",
       "  </tbody>\n",
       "</table>\n",
       "</div>"
      ],
      "text/plain": [
       "           family_status  count  sum  ratio  total\n",
       "0  Не женат / не замужем   2796  273   9.76   8.12\n",
       "1              в разводе   1189   84   7.06   8.12\n",
       "2         вдовец / вдова    951   63   6.62   8.12\n",
       "3       гражданский брак   4134  385   9.31   8.12\n",
       "4        женат / замужем  12261  927   7.56   8.12"
      ]
     },
     "execution_count": 20,
     "metadata": {},
     "output_type": "execute_result"
    }
   ],
   "source": [
    "corr_frame('family_status', data)"
   ]
  },
  {
   "cell_type": "code",
   "execution_count": 21,
   "id": "64ef09fb-27b2-4b12-900a-5e26ab11a714",
   "metadata": {},
   "outputs": [
    {
     "data": {
      "image/png": "[encoded data removed]",
      "text/plain": [
       "<Figure size 600x600 with 1 Axes>"
      ]
     },
     "metadata": {},
     "output_type": "display_data"
    }
   ],
   "source": [
    "corr_plot('family_status', corr_frame('family_status', data))"
   ]
  },
  {
   "cell_type": "markdown",
   "id": "b0288c44-8cf3-4354-b4c7-6a23100fdedf",
   "metadata": {},
   "source": [
    "When studying this dependence, the following conclusion can be made, borrowers with a marital status of divorced (`в разводе`), widower/widow (`вдовец/вдова`) or married/married (`женат/замужем`) are more responsible for repayment of obligations to the bank than unmarried/unmarried (`Не женат/не замужем`) and living in a common-law marriage (`гражданский брак`), the difference is clearly visible on the graph as well."
   ]
  },
  {
   "cell_type": "markdown",
   "id": "2b63778c-e60c-494f-bf42-5b59ebb32ba0",
   "metadata": {},
   "source": [
    "### Is there a correlation between income level and loan repayment on time?"
   ]
  },
  {
   "cell_type": "code",
   "execution_count": 22,
   "id": "97166dda-6618-4815-809a-326df3a27db5",
   "metadata": {},
   "outputs": [
    {
     "data": {
      "text/html": [
       "<div>\n",
       "<style scoped>\n",
       "    .dataframe tbody tr th:only-of-type {\n",
       "        vertical-align: middle;\n",
       "    }\n",
       "\n",
       "    .dataframe tbody tr th {\n",
       "        vertical-align: top;\n",
       "    }\n",
       "\n",
       "    .dataframe thead th {\n",
       "        text-align: right;\n",
       "    }\n",
       "</style>\n",
       "<table border=\"1\" class=\"dataframe\">\n",
       "  <thead>\n",
       "    <tr style=\"text-align: right;\">\n",
       "      <th></th>\n",
       "      <th>total_income_category</th>\n",
       "      <th>count</th>\n",
       "      <th>sum</th>\n",
       "      <th>ratio</th>\n",
       "      <th>total</th>\n",
       "    </tr>\n",
       "  </thead>\n",
       "  <tbody>\n",
       "    <tr>\n",
       "      <th>0</th>\n",
       "      <td>A</td>\n",
       "      <td>25</td>\n",
       "      <td>2</td>\n",
       "      <td>8.00</td>\n",
       "      <td>8.12</td>\n",
       "    </tr>\n",
       "    <tr>\n",
       "      <th>1</th>\n",
       "      <td>B</td>\n",
       "      <td>5014</td>\n",
       "      <td>354</td>\n",
       "      <td>7.06</td>\n",
       "      <td>8.12</td>\n",
       "    </tr>\n",
       "    <tr>\n",
       "      <th>2</th>\n",
       "      <td>C</td>\n",
       "      <td>15921</td>\n",
       "      <td>1353</td>\n",
       "      <td>8.50</td>\n",
       "      <td>8.12</td>\n",
       "    </tr>\n",
       "    <tr>\n",
       "      <th>3</th>\n",
       "      <td>D</td>\n",
       "      <td>349</td>\n",
       "      <td>21</td>\n",
       "      <td>6.02</td>\n",
       "      <td>8.12</td>\n",
       "    </tr>\n",
       "    <tr>\n",
       "      <th>4</th>\n",
       "      <td>E</td>\n",
       "      <td>22</td>\n",
       "      <td>2</td>\n",
       "      <td>9.09</td>\n",
       "      <td>8.12</td>\n",
       "    </tr>\n",
       "  </tbody>\n",
       "</table>\n",
       "</div>"
      ],
      "text/plain": [
       "  total_income_category  count   sum  ratio  total\n",
       "0                     A     25     2   8.00   8.12\n",
       "1                     B   5014   354   7.06   8.12\n",
       "2                     C  15921  1353   8.50   8.12\n",
       "3                     D    349    21   6.02   8.12\n",
       "4                     E     22     2   9.09   8.12"
      ]
     },
     "execution_count": 22,
     "metadata": {},
     "output_type": "execute_result"
    }
   ],
   "source": [
    "corr_frame('total_income_category', data)"
   ]
  },
  {
   "cell_type": "code",
   "execution_count": 23,
   "id": "499e937d-fae5-43ea-a2b4-ba1a57c9d844",
   "metadata": {},
   "outputs": [
    {
     "data": {
      "image/png": "[encoded data removed]",
      "text/plain": [
       "<Figure size 600x600 with 1 Axes>"
      ]
     },
     "metadata": {},
     "output_type": "display_data"
    }
   ],
   "source": [
    "corr_plot('total_income_category', corr_frame('total_income_category', data))"
   ]
  },
  {
   "cell_type": "markdown",
   "id": "cbc2a55d-43d3-40d0-af8e-cd8a2b142a91",
   "metadata": {},
   "source": [
    "In this task the difference between all categories is clearly visible and it is impossible to say that the lower the income level the higher the share of debts, because the two categories with the lowest income are distributed at the two ends of the graph, as well as the surprising location of the category with the highest income in the middle, there is still a dependence, although not direct, the category with the lowest income is the least responsible, and the category following it is the most responsible. Again, we cannot but mention the insufficient amount of data for categories A D and E"
   ]
  },
  {
   "cell_type": "markdown",
   "id": "5b545998-7526-40f2-bfb4-299f0836349b",
   "metadata": {},
   "source": [
    "### How do different purposes of a loan affect its repayment on time?"
   ]
  },
  {
   "cell_type": "code",
   "execution_count": 24,
   "id": "f147ed18-4df6-42ba-8d0a-cd445f8c937c",
   "metadata": {},
   "outputs": [
    {
     "data": {
      "text/html": [
       "<div>\n",
       "<style scoped>\n",
       "    .dataframe tbody tr th:only-of-type {\n",
       "        vertical-align: middle;\n",
       "    }\n",
       "\n",
       "    .dataframe tbody tr th {\n",
       "        vertical-align: top;\n",
       "    }\n",
       "\n",
       "    .dataframe thead th {\n",
       "        text-align: right;\n",
       "    }\n",
       "</style>\n",
       "<table border=\"1\" class=\"dataframe\">\n",
       "  <thead>\n",
       "    <tr style=\"text-align: right;\">\n",
       "      <th></th>\n",
       "      <th>purpose_category</th>\n",
       "      <th>count</th>\n",
       "      <th>sum</th>\n",
       "      <th>ratio</th>\n",
       "      <th>total</th>\n",
       "    </tr>\n",
       "  </thead>\n",
       "  <tbody>\n",
       "    <tr>\n",
       "      <th>0</th>\n",
       "      <td>операции с автомобилем</td>\n",
       "      <td>4279</td>\n",
       "      <td>400</td>\n",
       "      <td>9.35</td>\n",
       "      <td>8.12</td>\n",
       "    </tr>\n",
       "    <tr>\n",
       "      <th>1</th>\n",
       "      <td>операции с недвижимостью</td>\n",
       "      <td>10751</td>\n",
       "      <td>780</td>\n",
       "      <td>7.26</td>\n",
       "      <td>8.12</td>\n",
       "    </tr>\n",
       "    <tr>\n",
       "      <th>2</th>\n",
       "      <td>получение образования</td>\n",
       "      <td>3988</td>\n",
       "      <td>369</td>\n",
       "      <td>9.25</td>\n",
       "      <td>8.12</td>\n",
       "    </tr>\n",
       "    <tr>\n",
       "      <th>3</th>\n",
       "      <td>проведение свадьбы</td>\n",
       "      <td>2313</td>\n",
       "      <td>183</td>\n",
       "      <td>7.91</td>\n",
       "      <td>8.12</td>\n",
       "    </tr>\n",
       "  </tbody>\n",
       "</table>\n",
       "</div>"
      ],
      "text/plain": [
       "           purpose_category  count  sum  ratio  total\n",
       "0    операции с автомобилем   4279  400   9.35   8.12\n",
       "1  операции с недвижимостью  10751  780   7.26   8.12\n",
       "2     получение образования   3988  369   9.25   8.12\n",
       "3        проведение свадьбы   2313  183   7.91   8.12"
      ]
     },
     "execution_count": 24,
     "metadata": {},
     "output_type": "execute_result"
    }
   ],
   "source": [
    "corr_frame('purpose_category', data)"
   ]
  },
  {
   "cell_type": "code",
   "execution_count": 25,
   "id": "9e16a7cc-d55e-4d38-975a-15ab54a8f23a",
   "metadata": {},
   "outputs": [
    {
     "data": {
      "image/png": "[encoded data removed]",
      "text/plain": [
       "<Figure size 600x600 with 1 Axes>"
      ]
     },
     "metadata": {},
     "output_type": "display_data"
    }
   ],
   "source": [
    "corr_plot('purpose_category', corr_frame('purpose_category', data))"
   ]
  },
  {
   "cell_type": "markdown",
   "id": "1bb9a8d7-5fee-4bdb-85a0-166380580cc8",
   "metadata": {},
   "source": [
    "Judging by the chart, borrowers with the purpose of automobile or education are the least responsible for their obligations and their peaks are practically the same, as evidenced by the figures the difference is only 0.1%, the most responsible group of borrowers with the purpose of real estate transactions (the most numerous among them)"
   ]
  },
  {
   "cell_type": "markdown",
   "id": "745906ff-a283-416c-ba50-70ac4e1973e3",
   "metadata": {},
   "source": [
    "## General conclusion"
   ]
  },
  {
   "cell_type": "markdown",
   "id": "2c75d615-39d3-41d0-95e4-63fb921339f0",
   "metadata": {},
   "source": [
    "In this paper, we have conducted a study and analyzed the reliability of the borrowers of the credit department of the bank.\n",
    "\n",
    "1. Data preprocessing was performed:\n",
    "\n",
    "- search processing and elimination of missing values;;\n",
    "- processing of abnormal values;\n",
    "- data type changes;\n",
    "- processing of duplicates;\n",
    "- data categorization.\n",
    "\n",
    "2. Studying the following dependencies:\n",
    "\n",
    "- Is there a correlation between marital status and loan repayment on time?\n",
    "- Is there a correlation between the number of children and loan repayment on time?\n",
    "- Is there a correlation between income level and loan repayment on time?\n",
    "- How do different purposes of a loan affect its repayment on time?\n",
    "\n",
    "The following conclusions can be made on the basis of the conducted research:  \n",
    "\n",
    "- Hypotheses about the relationship between the number of children, marital status, income level and loan repayment with maturity (although not direct) are confirmed;\n",
    "- Loan objectives do affect loan repayment on time.\n",
    "\n",
    "The following categories can be classified as unreliable borrowers or let's say \"risk group\":\n",
    "\n",
    "- Borrowers with 1st, 2nd, 4th, children;\n",
    "- unmarried/unmarried borrowers or those living in a common-law marriage;\n",
    "- Borrowers with the lowest and middle income categories.\n",
    "\n",
    "In terms of loan purposes, the largest share of loan arrears is owed by borrowers for automobile and education purposes"
   ]
  }
 ],
 "metadata": {
  "kernelspec": {
   "display_name": "Python 3 (ipykernel)",
   "language": "python",
   "name": "python3"
  },
  "language_info": {
   "codemirror_mode": {
    "name": "ipython",
    "version": 3
   },
   "file_extension": ".py",
   "mimetype": "text/x-python",
   "name": "python",
   "nbconvert_exporter": "python",
   "pygments_lexer": "ipython3",
   "version": "3.11.8"
  }
 },
 "nbformat": 4,
 "nbformat_minor": 5
}
