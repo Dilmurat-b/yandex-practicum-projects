{
 "cells": [
  {
   "cell_type": "markdown",
   "id": "80696fed-737d-4bd4-8e34-b1f8f04ff151",
   "metadata": {},
   "source": [
    "# ResNet in Keras"
   ]
  },
  {
   "cell_type": "markdown",
   "id": "b0365d15-8248-4fd3-afab-0fb71ca65d02",
   "metadata": {},
   "source": [
    "In this task, you needed to build and train a *ResNet* architecture on a fruit dataset. It is necessary that the `accuracy` value on the test sample should be at least 99%.\n",
    "There is a limitation: the model must be trained in half an hour."
   ]
  },
  {
   "cell_type": "markdown",
   "id": "4fd10dda-4606-4f9f-9b0e-3a48542f6b82",
   "metadata": {},
   "source": [
    "```python\n",
    "from tensorflow.keras.preprocessing.image import ImageDataGenerator\n",
    "from tensorflow.keras.models import Sequential\n",
    "from tensorflow.keras.layers import GlobalAveragePooling2D, Dense\n",
    "from tensorflow.keras.optimizers import Adam\n",
    "from tensorflow.keras.applications.resnet import ResNet50\n",
    "from tensorflow import keras\n",
    "\n",
    "def load_train(path):\n",
    "    datagen = ImageDataGenerator(\n",
    "        rescale=1/255,\n",
    "        vertical_flip=True,\n",
    "        horizontal_flip=True,\n",
    "        rotation_range=90,\n",
    "        width_shift_range=0.15,\n",
    "        height_shift_range=0.15,\n",
    "        zoom_range=0.1,\n",
    "    )\n",
    "\n",
    "    datagen_flow = datagen.flow_from_directory(\n",
    "        path,\n",
    "        target_size=(150, 150),\n",
    "        batch_size=16,\n",
    "        class_mode='sparse',\n",
    "    )\n",
    "\n",
    "    return datagen_flow\n",
    "\n",
    "def create_model(input_shape):\n",
    "    backbone = ResNet50(\n",
    "        weights='datasets/keras_models/resnet50_weights_tf_dim_ordering_tf_kernels_notop.h5',\n",
    "        input_shape=input_shape, \n",
    "        include_top=False)\n",
    "    \n",
    "    model = Sequential()\n",
    "    model.add(backbone)\n",
    "    model.add(GlobalAveragePooling2D())\n",
    "    model.add(Dense(12, activation='softmax'))\n",
    "    model.compile(optimizer=Adam(learning_rate=0.0001), \n",
    "                  loss='sparse_categorical_crossentropy',\n",
    "                  metrics=['acc'])\n",
    "    return model\n",
    "\n",
    "\n",
    "def train_model(model, train_data, test_data, batch_size=None, epochs=3,\n",
    "                steps_per_epoch=None, validation_steps=None):\n",
    "    model.fit(train_data,\n",
    "        validation_data=test_data,\n",
    "        epochs=epochs, batch_size=batch_size,\n",
    "        steps_per_epoch=steps_per_epoch,\n",
    "        validation_steps=validation_steps,\n",
    "        verbose=2, shuffle=True)\n",
    "    return model\n",
    "```"
   ]
  },
  {
   "cell_type": "markdown",
   "id": "ae6525ae-df34-410c-b5b9-867f28a0c049",
   "metadata": {},
   "source": [
    "**Neural Network Architecture**"
   ]
  },
  {
   "cell_type": "markdown",
   "id": "a199a3a5-4daa-41bc-a16e-dc3d3ceace4b",
   "metadata": {},
   "source": [
    "```\n",
    "Model: \"sequential\"\r\n",
    "_________________________________________________________________\r\n",
    " Layer (type)                Output Shape              Param #   \r\n",
    "=================================================================\r\n",
    " resnet50 (Functional)       (None, 5, 5, 2048)        23587712  \r\n",
    "                                                                 \r\n",
    " global_average_pooling2d (G  (None, 2048)             0         \r\n",
    " lobalAveragePooling2D)                                          \r\n",
    "                                                                 \r\n",
    " dense (Dense)               (None, 12)                24588     \r\n",
    "                                                                 \r\n",
    "=================================================================\r\n",
    "Total params: 23,612,300\r\n",
    "Trainable params: 23,559,180\r\n",
    "Non-trainable params: 53,120\r\n",
    "_________________________________________________________________\n",
    "```"
   ]
  },
  {
   "cell_type": "markdown",
   "id": "6d904eaf-7232-4f42-889d-5c141388485e",
   "metadata": {},
   "source": [
    "**Result of output model**\n",
    "```\n",
    "Found 23397 images belonging to 12 classes.\n",
    "Found 7804 images belonging to 12 classes.\n",
    "\n",
    "Train for 1463 steps, validate for 488 steps\n",
    "Epoch 1/3\n",
    "1463/1463 - 282s - loss: 0.1283 - acc: 0.9591 - val_loss: 0.1934 - val_acc: 0.9713\n",
    "Epoch 2/3\n",
    "1463/1463 - 267s - loss: 0.0388 - acc: 0.9887 - val_loss: 0.0605 - val_acc: 0.9798\n",
    "Epoch 3/3\n",
    "1463/1463 - 282s - loss: 0.0287 - acc: 0.9911 - val_loss: 0.0104 - val_acc: 0.9967\n",
    "\n",
    "488/488 - 39s - loss: 0.0104 - acc: 0.9967\n",
    "```"
   ]
  },
  {
   "cell_type": "code",
   "execution_count": null,
   "id": "d4c86fe0-06ed-4d74-945c-71a0b32486aa",
   "metadata": {},
   "outputs": [],
   "source": []
  }
 ],
 "metadata": {
  "kernelspec": {
   "display_name": "Python 3 (ipykernel)",
   "language": "python",
   "name": "python3"
  },
  "language_info": {
   "codemirror_mode": {
    "name": "ipython",
    "version": 3
   },
   "file_extension": ".py",
   "mimetype": "text/x-python",
   "name": "python",
   "nbconvert_exporter": "python",
   "pygments_lexer": "ipython3",
   "version": "3.11.8"
  }
 },
 "nbformat": 4,
 "nbformat_minor": 5
}
